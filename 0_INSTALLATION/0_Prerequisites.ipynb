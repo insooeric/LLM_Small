{
 "cells": [
  {
   "cell_type": "markdown",
   "id": "b65e65c9",
   "metadata": {},
   "source": [
    "# System requirement"
   ]
  },
  {
   "cell_type": "markdown",
   "id": "1a938a68",
   "metadata": {},
   "source": [
    "obviously, the better the specs, the faster the compile time will be. <br/>"
   ]
  },
  {
   "cell_type": "markdown",
   "id": "5a1a55f1",
   "metadata": {},
   "source": [
    "followins are the system i've ran this project (with some helpful informations)"
   ]
  },
  {
   "cell_type": "markdown",
   "id": "7a79e9b1",
   "metadata": {},
   "source": [
    "## MSI GF65 Thin (Laptop)\n",
    "- OS: Windows 11 Pro 64-bit\n",
    "- CPU: Intel(R) Core(TM) i7-10750H CPU @ 2.60 GHz (12 CPUs), ~2.6GHz (i kinda overclocked this to avg frequency 3.80GHz)\n",
    "- GPU: NVIDIA GeForce RTX 3060 Laptop GPU 6GB VRAM\n",
    "- RAM: 40GB\n",
    "\n",
    "**Additional informations**\n",
    "- pretraining took around 6 days\n",
    "- finetuning might(?) take around 9 days (idk. that's the calculation result based on the below one...)"
   ]
  },
  {
   "cell_type": "markdown",
   "id": "43194166",
   "metadata": {},
   "source": [
    "## ASUS Zephyrus G15 (Laptop)\n",
    "- OS: Windows 11 Home 64-bit\n",
    "- CPU: AMD Ryzen 9 5900HS (16 CPUs), ~3.3GHz (also overclocked this to avg frequency 4.03GHz)\n",
    "- GPU: NVIDIA GeForce RTX 3080 Laptop GPU 8GB VRAM\n",
    "- RAM: 40GB\n",
    "\n",
    "**Additional informations**\n",
    "- pretraining took around a day\n",
    "- finetuning took around 35 hours (less than 2 days)"
   ]
  },
  {
   "cell_type": "markdown",
   "id": "cfc82e27",
   "metadata": {},
   "source": [
    "## **HUGE WARNING**"
   ]
  },
  {
   "cell_type": "markdown",
   "id": "ccad5de5",
   "metadata": {},
   "source": [
    "## ok. first of all, <br/>\n",
    "if you're running with full datasets (not the small one) <br/>\n",
    "**YOU WILL NEED AT LEAST 290GB MEMORY SPACE**\n",
    "<br/>\n",
    "<br/>\n",
    "<img src=\"./size.png\" width=\"400\"/>\n",
    "<br/>\n",
    "and even the small one would need around **50GB** space (definitely might need more than that... idk)"
   ]
  },
  {
   "cell_type": "markdown",
   "id": "12f368e0",
   "metadata": {},
   "source": [
    "## secondly\n",
    "the run time depends on the performance of the system <br/>\n",
    "but with my laptop (ASUS Zephyrus G15), it took **around a week** to fully run the code <br/>\n",
    "meaning, **if your system has lower specs than mine, it'll likely to take more than a couple of weeks** <br/>\n",
    "<br/>\n",
    "worst case scenario; with my old desktop that has GTX 1060Ti, it was reporting that 25k pretrain will take around 2 years..."
   ]
  }
 ],
 "metadata": {
  "language_info": {
   "name": "python"
  }
 },
 "nbformat": 4,
 "nbformat_minor": 5
}
