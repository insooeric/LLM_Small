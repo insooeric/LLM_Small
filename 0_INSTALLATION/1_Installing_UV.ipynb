{
 "cells": [
  {
   "cell_type": "markdown",
   "id": "d1987119",
   "metadata": {},
   "source": [
    "# Installing UV"
   ]
  },
  {
   "cell_type": "markdown",
   "id": "89b54ce9",
   "metadata": {},
   "source": [
    "Just in case, if we're hitting some implementation error, we don't wanna remove&reinstall python. <br/>\n",
    "So, we're gonna create virtual python environment using UV"
   ]
  },
  {
   "cell_type": "markdown",
   "id": "659e39d6",
   "metadata": {},
   "source": [
    "## 1. Open Powershell with Admin (Windows)"
   ]
  },
  {
   "cell_type": "markdown",
   "id": "ca94751e",
   "metadata": {},
   "source": [
    "[drop this in powershell]\n",
    "```\n",
    "powershell -NoProfile -ExecutionPolicy Bypass -Command \"irm https://astral.sh/uv/install.ps1 | iex\"\n",
    "```"
   ]
  },
  {
   "cell_type": "markdown",
   "id": "2ae22cea",
   "metadata": {},
   "source": [
    "##### ----LOG----"
   ]
  },
  {
   "cell_type": "markdown",
   "id": "976d51ba",
   "metadata": {},
   "source": [
    "<p>\n",
    "  PS C:\\Users\\insoo> powershell -NoProfile -ExecutionPolicy Bypass -Command \"irm https://astral.sh/uv/install.ps1 | iex\" <br/> <br/>\n",
    "  Downloading uv 0.8.9 (x86_64-pc-windows-msvc)<br/>\n",
    "  Installing to C:\\Users\\insoo\\.local\\bin<br/>\n",
    "    uv.exe<br/>\n",
    "    uvx.exe<br/>\n",
    "    uvw.exe<br/>\n",
    "  everything's installed!\n",
    "</p>"
   ]
  },
  {
   "cell_type": "markdown",
   "id": "96d19bdd",
   "metadata": {},
   "source": [
    "##### ----END OF LOG----"
   ]
  },
  {
   "cell_type": "markdown",
   "id": "2bef02bb",
   "metadata": {},
   "source": [
    "Comment: We're gonna handle that Path stuff later"
   ]
  },
  {
   "cell_type": "markdown",
   "id": "54bf6b46",
   "metadata": {},
   "source": [
    "## 2. Add UV to PATH"
   ]
  },
  {
   "cell_type": "markdown",
   "id": "0a8fbc86",
   "metadata": {},
   "source": [
    "[drop this in powershell]\n",
    "```\n",
    "[Environment]::SetEnvironmentVariable(\n",
    "    \"Path\",\n",
    "    \"$env:USERPROFILE\\.local\\bin;\" + [Environment]::GetEnvironmentVariable(\"Path\",\"User\"),\n",
    "    \"User\"\n",
    ")\n",
    "```"
   ]
  },
  {
   "cell_type": "markdown",
   "id": "ad82d6ef",
   "metadata": {},
   "source": [
    "It's gonna add that Path to user-level permanently"
   ]
  },
  {
   "cell_type": "markdown",
   "id": "4db5be7e",
   "metadata": {},
   "source": [
    "## 3. Refresh PATH in the current terminal"
   ]
  },
  {
   "cell_type": "markdown",
   "id": "0e24e1cd",
   "metadata": {},
   "source": [
    "[drop this in powershell]\n",
    "```\n",
    "$env:PATH = \"$env:USERPROFILE\\.local\\bin;$env:PATH\"\n",
    "```"
   ]
  },
  {
   "cell_type": "markdown",
   "id": "b987ecd3",
   "metadata": {},
   "source": [
    "## 4. Verify UV"
   ]
  },
  {
   "cell_type": "markdown",
   "id": "4ebf5bbd",
   "metadata": {},
   "source": [
    "[drop this in powershell]\n",
    "```\n",
    "where.exe uv\n",
    "```"
   ]
  },
  {
   "cell_type": "markdown",
   "id": "d783a785",
   "metadata": {},
   "source": [
    "##### ----LOG----"
   ]
  },
  {
   "cell_type": "markdown",
   "id": "e0c29ac0",
   "metadata": {},
   "source": [
    "PS C:\\WINDOWS\\system32> where.exe uv <br/>\n",
    "C:\\Users\\insoo\\.local\\bin\\uv.exe"
   ]
  },
  {
   "cell_type": "markdown",
   "id": "7aedba9b",
   "metadata": {},
   "source": [
    "##### ----END OF LOG----"
   ]
  },
  {
   "cell_type": "markdown",
   "id": "1e31d1d0",
   "metadata": {},
   "source": [
    "## 5. Verify UV in project folder"
   ]
  },
  {
   "cell_type": "markdown",
   "id": "ce504f2b",
   "metadata": {},
   "source": [
    "Close this project folder and open it again"
   ]
  },
  {
   "cell_type": "markdown",
   "id": "e0cdf2b1",
   "metadata": {},
   "source": [
    "If you're missing terminal,<br/>\n",
    "in the toolbar (the one at the top saying File, Edit, Selection, etc.) <br/>\n",
    "goto View -> Terminal <br/>\n",
    "You'll now see the Terminal at the bottom (usually if you haven't touch any config)"
   ]
  },
  {
   "cell_type": "markdown",
   "id": "d76c697b",
   "metadata": {},
   "source": [
    "[drop this in terminal]\n",
    "```\n",
    "uv --version\n",
    "```"
   ]
  },
  {
   "cell_type": "markdown",
   "id": "db2ba06b",
   "metadata": {},
   "source": [
    "##### ----LOG----"
   ]
  },
  {
   "cell_type": "markdown",
   "id": "e1f77dd3",
   "metadata": {},
   "source": [
    "PS C:\\Users\\insoo\\OneDrive\\Documents\\Personal\\Projects\\LLM\\LLM-dummy-documentation> uv --version <br/>\n",
    "uv 0.8.9 (68c0bf8a2 2025-08-11)"
   ]
  },
  {
   "cell_type": "markdown",
   "id": "bb8383ea",
   "metadata": {},
   "source": [
    "##### ----END OF LOG----"
   ]
  },
  {
   "cell_type": "markdown",
   "id": "157c1845",
   "metadata": {},
   "source": [
    "Comment: if you have latest version, i guess... that's ok(?) idk"
   ]
  },
  {
   "cell_type": "markdown",
   "id": "04e4ea79",
   "metadata": {},
   "source": [
    "## 6. Create python virtual env with python3.12"
   ]
  },
  {
   "cell_type": "markdown",
   "id": "b9d04cc2",
   "metadata": {},
   "source": [
    "This project will be using python3.12 with CUDA in NVIDIA GPU (since the computation will take significantly longer... like over 2 months)"
   ]
  },
  {
   "cell_type": "markdown",
   "id": "ede4073e",
   "metadata": {},
   "source": [
    "Why python 3.12? <br/>\n",
    "-> It's because 3.12 is the latest version that supports CUDA"
   ]
  },
  {
   "cell_type": "markdown",
   "id": "f22e7614",
   "metadata": {},
   "source": [
    "Type below in the vscode terminal"
   ]
  },
  {
   "cell_type": "markdown",
   "id": "28acddc7",
   "metadata": {},
   "source": [
    "[drop this in terminal]\n",
    "```\n",
    "uv venv .venv --python python3.12\n",
    "```"
   ]
  },
  {
   "cell_type": "markdown",
   "id": "b5228334",
   "metadata": {},
   "source": [
    "##### ----LOG----"
   ]
  },
  {
   "cell_type": "markdown",
   "id": "3c574105",
   "metadata": {},
   "source": [
    "PS C:\\Users\\insoo\\OneDrive\\Documents\\Personal\\Projects\\LLM\\LLM-dummy-documentation> uv venv .venv --python python3.12\n",
    ">>\n",
    "Using CPython 3.12.0 interpreter at: C:\\Users\\insoo\\AppData\\Local\\Programs\\Python\\Python312\\python.exe\n",
    "Creating virtual environment at: .venv\n",
    "Activate with: .venv\\Scripts\\activate"
   ]
  },
  {
   "cell_type": "markdown",
   "id": "3ea9b356",
   "metadata": {},
   "source": [
    "##### ----END OF LOG----"
   ]
  },
  {
   "cell_type": "markdown",
   "id": "27624bdc",
   "metadata": {},
   "source": [
    "Comment: If you see .venv folder in your root directory, well done!"
   ]
  },
  {
   "cell_type": "markdown",
   "id": "ea226f1f",
   "metadata": {},
   "source": [
    "## 7. Activate .venv"
   ]
  },
  {
   "cell_type": "markdown",
   "id": "c7a9dea3",
   "metadata": {},
   "source": [
    "[drop this in powershell]\n",
    "```\n",
    ".\\.venv\\Scripts\\activate\n",
    "```"
   ]
  },
  {
   "cell_type": "markdown",
   "id": "3907d18e",
   "metadata": {},
   "source": [
    "now, if you see (.venv) in your terminal like <br/>\n",
    "```\n",
    "(.venv) PS C:\\Users\\insoo\\OneDrive\\Documents\\Personal\\Projects\\LLM\\LLM-dummy-documentation>\n",
    "```\n",
    "YES. you're now in virtual environment"
   ]
  },
  {
   "cell_type": "markdown",
   "id": "1d1074c1",
   "metadata": {},
   "source": [
    "##### quick check"
   ]
  },
  {
   "cell_type": "markdown",
   "id": "f41fadf7",
   "metadata": {},
   "source": [
    "now in there, type ```python --version``` in terminal to see if you get Python 3.12.0"
   ]
  },
  {
   "cell_type": "markdown",
   "id": "96844856",
   "metadata": {},
   "source": [
    "## 8. Deactivate .venv"
   ]
  },
  {
   "cell_type": "markdown",
   "id": "f1615bdd",
   "metadata": {},
   "source": [
    "[drop this in terminal]\n",
    "```\n",
    "deactivate\n",
    "````\n",
    "if you see (.venv) is gone, you now have deactivated the virtual env"
   ]
  },
  {
   "cell_type": "markdown",
   "id": "93859237",
   "metadata": {},
   "source": [
    "## 9. Selecting right Kernal"
   ]
  },
  {
   "cell_type": "markdown",
   "id": "3e17db5f",
   "metadata": {},
   "source": [
    "Often time, when you open new .ipynb, it doesn't select the virtual kernel automatically. <br/>\n",
    "If so, press \"Select Kernel\" at the right top. <br/>\n",
    "Select .venv <br/>\n",
    "(or if you don't see, click \"Select Another Kernel\" -> \"Python Environments...\" -> \".venv\" it'll appear if you activate .venv)"
   ]
  },
  {
   "cell_type": "markdown",
   "id": "f31280b6",
   "metadata": {},
   "source": [
    "At the moment, the selected kernel says \".venv (3.12.0) (Python 3.12.0)\" <br/>\n",
    "which is good"
   ]
  }
 ],
 "metadata": {
  "kernelspec": {
   "display_name": ".venv (3.12.0)",
   "language": "python",
   "name": "python3"
  },
  "language_info": {
   "name": "python",
   "version": "3.12.0"
  }
 },
 "nbformat": 4,
 "nbformat_minor": 5
}
