{
 "cells": [
  {
   "cell_type": "markdown",
   "id": "ad881934",
   "metadata": {},
   "source": [
    "# Installing Libraries"
   ]
  },
  {
   "cell_type": "markdown",
   "id": "f193ab83",
   "metadata": {},
   "source": [
    "For every installation code below, drop it into the terminal"
   ]
  },
  {
   "cell_type": "markdown",
   "id": "6c527b9b",
   "metadata": {},
   "source": [
    "## Upgrade pip"
   ]
  },
  {
   "cell_type": "markdown",
   "id": "2f9fd123",
   "metadata": {},
   "source": [
    "```\n",
    "uv pip install --upgrade pip setuptools wheel\n",
    "```"
   ]
  },
  {
   "cell_type": "markdown",
   "id": "536cc59d",
   "metadata": {},
   "source": [
    "## Installing Torch with CUDA"
   ]
  },
  {
   "cell_type": "markdown",
   "id": "952dc854",
   "metadata": {},
   "source": [
    "```\n",
    "nvidia-smi\n",
    "```"
   ]
  },
  {
   "cell_type": "markdown",
   "id": "ddcb079f",
   "metadata": {},
   "source": [
    "You'll see something like \"CUDA VERSION: 12.5\"\n",
    "Since i'm using 12.5 version, i'm gonna be following along with 12.5 version installation (if you see 12.1 version, you're good to go)"
   ]
  },
  {
   "cell_type": "markdown",
   "id": "8ec70eeb",
   "metadata": {},
   "source": [
    "```\n",
    "uv pip install torch torchvision torchaudio --index-url https://download.pytorch.org/whl/cu124\n",
    "```"
   ]
  },
  {
   "cell_type": "markdown",
   "id": "c9050e4f",
   "metadata": {},
   "source": [
    "Comment: it's gonna download some libs + 2.36 GiB torch"
   ]
  },
  {
   "cell_type": "code",
   "execution_count": 1,
   "id": "8c0230d1",
   "metadata": {},
   "outputs": [
    {
     "name": "stdout",
     "output_type": "stream",
     "text": [
      "torch: 2.6.0+cu124\n",
      "build cuda: 12.4\n",
      "cuda available: True\n",
      "device: NVIDIA GeForce RTX 3080 Laptop GPU\n"
     ]
    }
   ],
   "source": [
    "import torch\n",
    "print(\"torch:\", torch.__version__)\n",
    "print(\"build cuda:\", torch.version.cuda)\n",
    "print(\"cuda available:\", torch.cuda.is_available())\n",
    "if torch.cuda.is_available():\n",
    "    print(\"device:\", torch.cuda.get_device_name(0))"
   ]
  },
  {
   "cell_type": "markdown",
   "id": "b6b952dd",
   "metadata": {},
   "source": [
    "Comment: \n",
    "when you run above code, it's gonna ask to install \"ipykernel\" <br/>\n",
    "install that as well."
   ]
  },
  {
   "cell_type": "markdown",
   "id": "fca7e446",
   "metadata": {},
   "source": [
    "# Install everything else"
   ]
  },
  {
   "cell_type": "markdown",
   "id": "29a6be5a",
   "metadata": {},
   "source": [
    "```\n",
    "uv pip install tokenizers numpy tqdm tensorboard matplotlib jupyter pandas fastparquet peft safetensors pyarrow jupyterlab ipykernel ipywidgets transformers onnx\n",
    "```\n"
   ]
  }
 ],
 "metadata": {
  "kernelspec": {
   "display_name": "LLM-dummy-documentation (3.12.0)",
   "language": "python",
   "name": "python3"
  },
  "language_info": {
   "codemirror_mode": {
    "name": "ipython",
    "version": 3
   },
   "file_extension": ".py",
   "mimetype": "text/x-python",
   "name": "python",
   "nbconvert_exporter": "python",
   "pygments_lexer": "ipython3",
   "version": "3.12.0"
  }
 },
 "nbformat": 4,
 "nbformat_minor": 5
}
