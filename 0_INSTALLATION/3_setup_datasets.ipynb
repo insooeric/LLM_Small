{
 "cells": [
  {
   "cell_type": "markdown",
   "id": "d2f5c9c5",
   "metadata": {},
   "source": [
    "# Large files"
   ]
  },
  {
   "cell_type": "markdown",
   "id": "3195c31b",
   "metadata": {},
   "source": [
    "bad news... <br/>\n",
    "unfortunately, the size of the whole project is <b>290 GB</b>... yes. you heard that right. <br/>\n",
    "and I couldn't upload it in github... <br/>\n",
    "so, before we start everything, we have to configure bunch of things first..."
   ]
  },
  {
   "cell_type": "markdown",
   "id": "a9a9e562",
   "metadata": {},
   "source": [
    "# Adding SFT datasets"
   ]
  },
  {
   "cell_type": "markdown",
   "id": "9d29b534",
   "metadata": {},
   "source": [
    "Under the folder `8_Supervised_finetuning_Data_Schema`, add 7 folders named:\n",
    "- ai2\n",
    "- info_datasets\n",
    "- NuminaMath\n",
    "- sciq\n",
    "- SVAMP\n",
    "- train_parquet\n",
    "- valid_parquet\n"
   ]
  },
  {
   "cell_type": "markdown",
   "id": "7d940c5b",
   "metadata": {},
   "source": [
    "# Download & Renaming"
   ]
  },
  {
   "cell_type": "markdown",
   "id": "aeea2f92",
   "metadata": {},
   "source": [
    "followings are the links for sft datasets <br/>\n",
    "for each one, i've added (`name`| `/path`) <br/>\n",
    "download them, rename it, then drop it to the according folder <br/>\n",
    "(it would be easier to do one by one since majority of the files have the same name)"
   ]
  },
  {
   "cell_type": "markdown",
   "id": "c3e30b72",
   "metadata": {},
   "source": [
    "<pre>\n",
    "- <a href=\"https://huggingface.co/datasets/allenai/ai2_arc/tree/main\" target=\"_blank\">https://huggingface.co/datasets/allenai/ai2_arc/tree/main</a>\n",
    "    - ARC-Easy\n",
    "        - train-00000-of-00001.parquet          (`ai2_train_1.parquet` | `/ai2`)\n",
    "        - validation-00000-of-00001.parquet     (`ai2_valid_1.parquet` | `/ai2`)\n",
    "    - ARC-Challenge\n",
    "        - train-00000-of-00001.parquet          (`ai2_train_2.parquet` | `/ai2`)\n",
    "        - validation-00000-of-00001.parquet     (`ai2_valid_1.parquet` | `/ai2`)\n",
    "\n",
    "- <a href=\"https://huggingface.co/datasets/databricks/databricks-dolly-15k/tree/main\" target=\"_blank\">https://huggingface.co/datasets/databricks/databricks-dolly-15k/tree/main</a>\n",
    "    - databricks-dolly-15k.jsonl                (`databricks-dolly-15k.jsonl` | `/sft_datasets`)\n",
    "\n",
    "- <a href=\"https://huggingface.co/datasets/openai/gsm8k/tree/main\" target=\"_blank\">https://huggingface.co/datasets/openai/gsm8k/tree/main</a>\n",
    "    - main\n",
    "        - train-00000-of-00001.parquet          (`gsm8k_train.parquet` | `/train_parquet`)\n",
    "        - test-00000-of-00001.parquet           (`gsm8k_valid.parquet` | `/valid_parquet`)\n",
    "\n",
    "- <a href=\"https://huggingface.co/datasets/EleutherAI/hendrycks_math/tree/main\" target=\"_blank\">https://huggingface.co/datasets/EleutherAI/hendrycks_math/tree/main</a>\n",
    "    - algebra\n",
    "        - train-00000-of-00001.parquet          (`hendryck_math_train_1.parquet` | `/train_parquet`)\n",
    "        - test-00000-of-00001.parquet           (`hendryck_math_valid_1.parquet` | `/valid_parquet`)\n",
    "    - counting_and_probability\n",
    "        - train-00000-of-00001.parquet          (`hendryck_math_train_2.parquet` | `/train_parquet`)\n",
    "        - test-00000-of-00001.parquet           (`hendryck_math_valid_2.parquet` | `/valid_parquet`)\n",
    "    - intermediate_algebra\n",
    "        - train-00000-of-00001.parquet          (`hendryck_math_train_3.parquet` | `/train_parquet`)\n",
    "        - test-00000-of-00001.parquet           (`hendryck_math_valid_3.parquet` | `/valid_parquet`)\n",
    "    - number_theory\n",
    "        - train-00000-of-00001.parquet          (`hendryck_math_train_4.parquet` | `/train_parquet`)\n",
    "        - test-00000-of-00001.parquet           (`hendryck_math_valid_4.parquet` | `/valid_parquet`)\n",
    "\n",
    "- <a href=\"https://huggingface.co/datasets/AI-MO/NuminaMath-CoT/tree/main\" target=\"_blank\">https://huggingface.co/datasets/AI-MO/NuminaMath-CoT/tree/main</a>\n",
    "    - data\n",
    "        - train-00000-of-00005.parquet          (`NuminaMath_train_1.parquet` | `/NuminaMath`)\n",
    "        - train-00001-of-00005.parquet          (`NuminaMath_train_2.parquet` | `/NuminaMath`)\n",
    "        - train-00002-of-00005.parquet          (`NuminaMath_train_3.parquet` | `/NuminaMath`)\n",
    "        - train-00003-of-00005.parquet          (`NuminaMath_train_4.parquet` | `/NuminaMath`)\n",
    "        - train-00004-of-00005.parquet          (`NuminaMath_train_5.parquet` | `/NuminaMath`)\n",
    "        - test-00000-of-00001.parquet           (`NuminaMath_valid.parquet` | `/NuminaMath`)\n",
    "\n",
    "- <a href=\"https://huggingface.co/datasets/OpenAssistant/oasst1/tree/main\" target=\"_blank\">https://huggingface.co/datasets/OpenAssistant/oasst1/tree/main</a>\n",
    "    - data\n",
    "        - train-00000-of-00001-b42a775f407cee45.parquet         (`oasst1_train_1.parquet` | `/train_parquet`)\n",
    "        - validation-00000-of-00001-134b8fd0c89408b6.parquet    (`oasst1_valid_1.parquet` | `/valid_parquet`)\n",
    "\n",
    "- <a href=\"https://huggingface.co/datasets/Open-Orca/OpenOrca/tree/main\" target=\"_blank\">https://huggingface.co/datasets/Open-Orca/OpenOrca/tree/main</a>\n",
    "    - 1M-GPT4-Augmented.parquet     (`openorca.parquet` | `/sft_datasets`)\n",
    "\n",
    "- <a href=\"https://huggingface.co/datasets/allenai/sciq/tree/main\" target=\"_blank\">https://huggingface.co/datasets/allenai/sciq/tree/main</a>\n",
    "    - data\n",
    "        - train-00000-of-00001.parquet          (`sciq_train_origin.parquet` | `/sciq`)\n",
    "        - validation-00000-of-00001.parquet     (`sciq_valid_origin.parquet` | `/sciq`)\n",
    "\n",
    "- <a href=\"https://huggingface.co/datasets/ChilleD/SVAMP/tree/main\" target=\"_blank\">https://huggingface.co/datasets/ChilleD/SVAMP/tree/main</a>\n",
    "    - train.json    (`SVAMP_train_origin.json` | `/SVAMP`)\n",
    "    - test.json     (`SVAMP_valid_origin.json` | `/SVAMP`)\n",
    "    \n",
    "- <a href=\"https://huggingface.co/datasets/HuggingFaceH4/ultrachat_200k/tree/main\" target=\"_blank\">https://huggingface.co/datasets/HuggingFaceH4/ultrachat_200k/tree/main</a>\n",
    "    - data\n",
    "        - train_sft-00000-of-00003-a3ecf92756993583.parquet     (`ultrachat_train_1.parquet` | `/train_parquet`)\n",
    "        - train_sft-00001-of-00003-0a1804bcb6ae68c6.parquet     (`ultrachat_train_2.parquet` | `/train_parquet`)\n",
    "        - train_sft-00002-of-00003-ee46ed25cfae92c6.parquet     (`ultrachat_train_3.parquet` | `/train_parquet`)\n",
    "        - test_sft-00000-of-00001-f7dfac4afe5b93f4.parquet      (`ultrachat_valid_1.parquet` | `/valid_parquet`)\n",
    "</pre>"
   ]
  },
  {
   "cell_type": "markdown",
   "id": "d007a0f9",
   "metadata": {},
   "source": [
    "### and, you're directory should look like below (without ipynb files)"
   ]
  },
  {
   "cell_type": "markdown",
   "id": "c506d619",
   "metadata": {},
   "source": [
    "<pre>\n",
    "8_Supervised_finetuning_Data_Schema\n",
    "│\n",
    "├───ai2\n",
    "│       ai2_train_1.parquet\n",
    "│       ai2_train_2.parquet\n",
    "│       ai2_valid_1.parquet\n",
    "│       ai2_valid_2.parquet\n",
    "│\n",
    "├───info_datasets\n",
    "│       info_train.jsonl\n",
    "│       info_valid.jsonl\n",
    "│\n",
    "├───NuminaMath\n",
    "│       NuminaMath_train_1.parquet\n",
    "│       NuminaMath_train_2.parquet\n",
    "│       NuminaMath_train_3.parquet\n",
    "│       NuminaMath_train_4.parquet\n",
    "│       NuminaMath_train_5.parquet\n",
    "│       NuminaMath_valid.parquet\n",
    "│\n",
    "├───sciq\n",
    "│       sciq_train_origin.parquet\n",
    "│       sciq_valid_origin.parquet\n",
    "│\n",
    "├───sft_datasets\n",
    "│       databricks-dolly-15k.jsonl\n",
    "│       openorca.jsonl\n",
    "│       openorca.parquet\n",
    "│\n",
    "├───SVAMP\n",
    "│       SVAMP_train_origin.json\n",
    "│       SVAMP_valid_origin.json\n",
    "│\n",
    "├───train_parquet\n",
    "│       gsm8k_train.parquet\n",
    "│       hendrycks_math_train_1.parquet\n",
    "│       hendrycks_math_train_2.parquet\n",
    "│       hendrycks_math_train_3.parquet\n",
    "│       hendrycks_math_train_4.parquet\n",
    "│       oasst1_train_1.parquet\n",
    "│       ultrachat_train_1.parquet\n",
    "│       ultrachat_train_2.parquet\n",
    "│       ultrachat_train_3.parquet\n",
    "│\n",
    "└───valid_parquet\n",
    "        gsm8k_valid.parquet\n",
    "        hendrycks_math_valid_1.parquet\n",
    "        hendrycks_math_valid_2.parquet\n",
    "        hendrycks_math_valid_3.parquet\n",
    "        hendrycks_math_valid_4.parquet\n",
    "        oasst1_valid_1.parquet\n",
    "        ultrachat_valid_1.parquet\n",
    "</pre>"
   ]
  },
  {
   "cell_type": "markdown",
   "id": "01553f96",
   "metadata": {},
   "source": [
    "# info_train/valid.jsonl"
   ]
  },
  {
   "cell_type": "markdown",
   "id": "2e8e762d",
   "metadata": {},
   "source": [
    "fortunately, those are small!! <br/>\n",
    "this will be posted in the release section in github <br/>\n",
    "save it somewhere in `8_Supervised_finetuning_DataSchema` folder since `11_info_cleanup.ipynb` explains where to put that"
   ]
  }
 ],
 "metadata": {
  "language_info": {
   "name": "python"
  }
 },
 "nbformat": 4,
 "nbformat_minor": 5
}
