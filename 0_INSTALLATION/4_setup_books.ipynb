{
 "cells": [
  {
   "cell_type": "markdown",
   "id": "fffea7a8",
   "metadata": {},
   "source": [
    "# Books for pretraining"
   ]
  },
  {
   "cell_type": "markdown",
   "id": "0d72136a",
   "metadata": {},
   "source": [
    "another pain... books folder contains roughly 75000 books, which is around <b>30 GB</b>..."
   ]
  },
  {
   "cell_type": "markdown",
   "id": "7d7d48e6",
   "metadata": {},
   "source": [
    "<a href=\"https://www.kaggle.com/datasets/lokeshparab/gutenberg-books-and-metadata-2025\" target=\"_blank\">Download link for Gutenberg Books</a>"
   ]
  },
  {
   "cell_type": "markdown",
   "id": "7bf8de7a",
   "metadata": {},
   "source": [
    "click that download button at the top right <br/>\n",
    "it's gonna download 30GB file (11GB before extraction) <br/>\n",
    "after extraction, create folder named `books` in the root directory and move all those 75000 files under there <br/> \n",
    "(it does not have .txt extension but when you open it, it show the text... that's weird)"
   ]
  }
 ],
 "metadata": {
  "language_info": {
   "name": "python"
  }
 },
 "nbformat": 4,
 "nbformat_minor": 5
}
