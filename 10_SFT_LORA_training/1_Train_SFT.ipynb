{
 "cells": [
  {
   "cell_type": "markdown",
   "id": "f6e97047",
   "metadata": {},
   "source": [
    "# For testing"
   ]
  },
  {
   "cell_type": "markdown",
   "id": "3b89c088",
   "metadata": {},
   "source": [
    "```\n",
    "python python_files/train_sft.py `\n",
    "  --train-ids-npy final_npy/train_input_ids.npy `\n",
    "  --train-mask-npy final_npy/train_loss_mask.npy `\n",
    "  --valid-ids-npy final_npy/valid_input_ids.npy `\n",
    "  --valid-mask-npy final_npy/valid_loss_mask.npy `\n",
    "  --config configs/model_config_124M_sft.json `\n",
    "  --base-ckpt pretrain_checkpoint/best_base.pt `\n",
    "  --run-dir fine_tuning_small `\n",
    "  --lora --lora-r 16 --lora-alpha 32 --lora-drop 0.05 `\n",
    "  --lora-targets \"attn.qkv,attn.out_proj,mlp.fc,mlp.proj\" `\n",
    "  --micro-bsz 8 --accum 8 --workers 0 --prefetch 2 `\n",
    "  --amp bf16 `\n",
    "  --quick-every 0 --eval-every 2000 --periodic-every 0 --log-every 1 `\n",
    "  --ema 0.9999 --ema-trainable-only `\n",
    "  --total-updates 2000\n",
    "```"
   ]
  },
  {
   "cell_type": "markdown",
   "id": "f6476a82",
   "metadata": {},
   "source": [
    "```\n",
    "python python_files/train_sft.py `\n",
    "  --train-ids-npy final_npy/train_input_ids.npy `\n",
    "  --train-mask-npy final_npy/train_loss_mask.npy `\n",
    "  --valid-ids-npy final_npy/valid_input_ids.npy `\n",
    "  --valid-mask-npy final_npy/valid_loss_mask.npy `\n",
    "  --config configs/model_config_124M_sft.json `\n",
    "  --run-dir fine_tuning_small `\n",
    "  --lora --lora-r 16 --lora-alpha 32 --lora-drop 0.05 `\n",
    "  --lora-targets \"attn.qkv,attn.out_proj,mlp.fc,mlp.proj\" `\n",
    "  --micro-bsz 8 --accum 8 --workers 0 --prefetch 2 `\n",
    "  --amp bf16 `\n",
    "  --quick-every 0 --eval-every 3500 --periodic-every 2000 --log-every 1 `\n",
    "  --ema 0.9999 --ema-trainable-only `\n",
    "  --total-updates 3500 `\n",
    "  --resume-from latest.pt\n",
    "```"
   ]
  },
  {
   "cell_type": "markdown",
   "id": "dba93a1e",
   "metadata": {},
   "source": [
    "## RESULT\n",
    "SYSTEM SPEC: <br/>\n",
    "OS: Windows 11 Home 64-bit <br/>\n",
    "CPU: AMD Ryzen 9 5900HS (≈4GHz) <br/>\n",
    "GPU: NVIDIA GeForce RTX 3080 Laptop GPU (VRAM 8GB) <br/>\n",
    "RAM: 40GB <br/>\n",
    "\n",
    "**RUNTIME**: 18m 54s"
   ]
  },
  {
   "cell_type": "markdown",
   "id": "a7d56214",
   "metadata": {},
   "source": [
    "# (TL;DR)\n",
    "there was a latancy every `--eval-eval` <br/>\n",
    "formula:  <br/>\n",
    "ceil(N_valid / batch_size) × forward_time_per_batch + small overhead <br/>\n",
    "- batch_size = 8 (same as `--micro-bsz`)\n",
    "- forward_time_per_batch = 80.6ms = 0.0806s (from `[profile] forward=80.6ms...`)\n",
    "- N_valid ≈ 13,037\n",
    "\n",
    "=> ceil(13037/8) ≈ 1635 <br/>\n",
    "=> 1635 x 0.0806s ≈ 132s ≈ 2m <br/>\n",
    "=> 2m + small overhead <br/>\n",
    "yeah. in fact, it took around 3 minutes. so, i guess that's expected\n"
   ]
  },
  {
   "cell_type": "markdown",
   "id": "54e3f821",
   "metadata": {},
   "source": [
    "# Real Run"
   ]
  },
  {
   "cell_type": "markdown",
   "id": "c52e3d50",
   "metadata": {},
   "source": [
    "```\n",
    "python python_files/train_sft.py `\n",
    "  --run-dir fine_tuning `\n",
    "  --base-ckpt pretrain_checkpoint/best_base.pt `\n",
    "  --config configs/model_config_124M_sft.json `\n",
    "  --train-ids-npy final_npy/train_input_ids.npy `\n",
    "  --train-mask-npy final_npy/train_loss_mask.npy `\n",
    "  --valid-ids-npy final_npy/valid_input_ids.npy `\n",
    "  --valid-mask-npy final_npy/valid_loss_mask.npy `\n",
    "  --lora --lora-r 32 --lora-alpha 64 --lora-drop 0.05 `\n",
    "  --lora-targets \"attn.qkv,attn.out_proj,mlp.fc,mlp.proj\" `\n",
    "  --micro-bsz 8 --accum 8 --workers 0 --prefetch 2 `\n",
    "  --amp bf16 `\n",
    "  --ema 0.9999 --ema-trainable-only --ema-every 4 `\n",
    "  --base-lr 2e-4 --min-lr-ratio 0.02 --warmup-pct 0.03 `\n",
    "  --label-smoothing 0.0 `\n",
    "  --quick-every 0 --eval-every 1000 --log-every 500 --periodic-every 1000 --clip-every 100 `\n",
    "  --total-updates 31000\n",
    "  ```"
   ]
  },
  {
   "cell_type": "markdown",
   "id": "53eb2480",
   "metadata": {},
   "source": [
    "**ok. I saw overfitting graph (valid_loss was increasing)** <br/>\n",
    "-> this is fixed now"
   ]
  },
  {
   "cell_type": "markdown",
   "id": "86697687",
   "metadata": {},
   "source": [
    "## RESULT\n",
    "SYSTEM SPEC: <br/>\n",
    "OS: Windows 11 Home 64-bit <br/>\n",
    "CPU: AMD Ryzen 9 5900HS (≈4GHz) <br/>\n",
    "GPU: NVIDIA GeForce RTX 3080 Laptop GPU (VRAM 8GB) <br/>\n",
    "RAM: 40GB <br/>\n",
    "\n",
    "**RUNTIME**: roughly 35 hours <br/>"
   ]
  }
 ],
 "metadata": {
  "kernelspec": {
   "display_name": "LLM-dummy-documentation (3.12.0)",
   "language": "python",
   "name": "python3"
  },
  "language_info": {
   "name": "python",
   "version": "3.12.0"
  }
 },
 "nbformat": 4,
 "nbformat_minor": 5
}
