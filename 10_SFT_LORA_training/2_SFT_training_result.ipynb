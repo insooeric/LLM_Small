{
 "cells": [
  {
   "cell_type": "markdown",
   "id": "3933bebd",
   "metadata": {},
   "source": [
    "# Result"
   ]
  },
  {
   "cell_type": "markdown",
   "id": "61d8295e",
   "metadata": {},
   "source": [
    "for logs in console, view `result_log.txt`"
   ]
  },
  {
   "cell_type": "markdown",
   "id": "af03204a",
   "metadata": {},
   "source": [
    "<img src=\"./loss_curve_u0031000.png\" width=\"800\"/>"
   ]
  },
  {
   "cell_type": "markdown",
   "id": "4be7db13",
   "metadata": {},
   "source": [
    "#### **YOOOO LOOK AT THAT GRAPH**"
   ]
  },
  {
   "cell_type": "markdown",
   "id": "da932733",
   "metadata": {},
   "source": [
    "both train/valid loss values are decreasing smoothly <br/>\n",
    "the gap between train and loss are shrinking down over time and never widens; meaning, no overfitting detected <br/>\n",
    "in the history.csv, last iteration (31000th) shows train_loss = 2.31, val_los = 2.84 <br/>\n",
    "2.84 - 2.31 = 0.53 <br/>\n",
    "i guess that value is ok...? <br/>\n",
    "(i actually have done sft training several times and the difference was more than 2 mostly. so, i'll consider this as a good training...)"
   ]
  },
  {
   "cell_type": "markdown",
   "id": "5575d5ff",
   "metadata": {},
   "source": [
    "##### (TL;DR)\n",
    "talking about several times of sft training, yes. <br/>\n",
    "completing SFT phase actually took me around 1-2 weeks..."
   ]
  }
 ],
 "metadata": {
  "language_info": {
   "name": "python"
  }
 },
 "nbformat": 4,
 "nbformat_minor": 5
}
