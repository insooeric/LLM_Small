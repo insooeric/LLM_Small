{
 "cells": [
  {
   "cell_type": "markdown",
   "id": "daf01157",
   "metadata": {},
   "source": [
    "# just copy and past those\n",
    "- info_datasets/info_train.jsonl -> train_jsonl (directory)\n",
    "- info_datasets/info_valid.jsonl -> valid_jsonl (directory)"
   ]
  }
 ],
 "metadata": {
  "language_info": {
   "name": "python"
  }
 },
 "nbformat": 4,
 "nbformat_minor": 5
}
