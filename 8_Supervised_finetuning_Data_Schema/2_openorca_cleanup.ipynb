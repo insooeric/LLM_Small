{
 "cells": [
  {
   "cell_type": "markdown",
   "id": "4ad182c0",
   "metadata": {},
   "source": [
    "# Cleanup for OpenOrca"
   ]
  },
  {
   "cell_type": "code",
   "execution_count": 1,
   "id": "69be9998",
   "metadata": {},
   "outputs": [
    {
     "name": "stdout",
     "output_type": "stream",
     "text": [
      "Reading: C:\\Users\\insoo\\Documents\\Personal\\Projects\\LLM\\LLM-dummy-documentation\\8_Supervised_finetuning_Data_Schema\\sft_datasets\\openorca.parquet\n",
      "Shape: (994896, 4)\n",
      "Columns: ['id', 'system_prompt', 'question', 'response']\n"
     ]
    }
   ],
   "source": [
    "from pathlib import Path\n",
    "import json\n",
    "import pandas as pd\n",
    "from tqdm import tqdm\n",
    "\n",
    "PARQUET_PATH = Path(\"./sft_datasets/openorca.parquet\")\n",
    "OUT_DIR      = Path(\"./sft_datasets\")\n",
    "OUT_DIR.mkdir(parents=True, exist_ok=True)\n",
    "OUT_JSONL    = OUT_DIR / \"openorca.jsonl\"\n",
    "\n",
    "print(\"Reading:\", PARQUET_PATH.resolve())\n",
    "df = pd.read_parquet(PARQUET_PATH)\n",
    "print(\"Shape:\", df.shape)\n",
    "print(\"Columns:\", list(df.columns))\n"
   ]
  },
  {
   "cell_type": "code",
   "execution_count": null,
   "id": "5e94dbd7",
   "metadata": {},
   "outputs": [
    {
     "name": "stdout",
     "output_type": "stream",
     "text": [
      "Kept 994895/994895 rows after dropping NaNs.\n"
     ]
    },
    {
     "name": "stderr",
     "output_type": "stream",
     "text": [
      "Writing openorca.jsonl: 100%|██████████| 994895/994895 [00:16<00:00, 59441.73it/s]"
     ]
    },
    {
     "name": "stdout",
     "output_type": "stream",
     "text": [
      "✅ Wrote: C:\\Users\\insoo\\Documents\\Personal\\Projects\\LLM\\LLM-dummy-documentation\\8_Supervised_finetuning_Data_Schema\\sft_datasets\\openorca.jsonl\n"
     ]
    },
    {
     "name": "stderr",
     "output_type": "stream",
     "text": [
      "\n"
     ]
    }
   ],
   "source": [
    "# sanity check required columns\n",
    "for col in (\"question\", \"response\"):\n",
    "    if col not in df.columns:\n",
    "        raise KeyError(f\"Missing required column: {col!r}\")\n",
    "\n",
    "SKIP_ROWS = 1  # skip the first row (metadata/headers)\n",
    "df_use = df.iloc[SKIP_ROWS:].copy()\n",
    "\n",
    "# drop rows with missing question/response\n",
    "before = len(df_use)\n",
    "df_use = df_use[df_use[\"question\"].notna() & df_use[\"response\"].notna()]\n",
    "after = len(df_use)\n",
    "print(f\"Kept {after}/{before} rows after dropping NaNs.\")\n",
    "\n",
    "# write JSONL\n",
    "with OUT_JSONL.open(\"w\", encoding=\"utf-8\") as f:\n",
    "    for q, a in tqdm(zip(df_use[\"question\"], df_use[\"response\"]),\n",
    "                     total=len(df_use), desc=f\"Writing {OUT_JSONL.name}\"):\n",
    "        obj = {\"user\": str(q).strip(), \"assistant\": str(a).strip()}\n",
    "        json.dump(obj, f, ensure_ascii=False)\n",
    "        f.write(\"\\n\")\n",
    "\n",
    "print(\"✅ Wrote:\", OUT_JSONL.resolve())\n"
   ]
  },
  {
   "cell_type": "code",
   "execution_count": 3,
   "id": "ceb0ef64",
   "metadata": {},
   "outputs": [
    {
     "name": "stdout",
     "output_type": "stream",
     "text": [
      "{\"user\": \"Generate an approximately fifteen-word sentence that describes all this data: Midsummer House eatType restaurant; Midsummer House food Chinese; Midsummer House priceRange moderate; Midsummer House customer rating 3 out of 5; Midsummer House near All Bar One\", \"assistant\": \"Midsummer House \n",
      "{\"user\": \"What happens next in this paragraph?\\n\\nShe then rubs a needle on a cotton ball then pushing it onto a pencil and wrapping thread around it. She then holds up a box of a product and then pouring several liquids into a bowl. she\\nChoose your answer from: A. adds saucepan and shakes up the p\n",
      "{\"user\": \"Please answer the following question: I want to test the ability of students to read a passage and answer questions about it. Could you please come up with a good question for the passage \\\"In 1901, the Federation of Australia was the process by which the six separate British self-governin\n",
      "{\"user\": \"James runs a TV show and there are 5 main characters and 4 minor characters. He pays the minor characters $15,000 each episode. He paid the major characters three times as much. How much does he pay per episode? Let's be accurate as possible.\", \"assistant\": \"James pays the minor characters\n",
      "{\"user\": \"Given the stream of consciousness rationale, provide a reasonable question and answer. Rationale: Here the game refers to a volleyball where female beach volleyball player serving the ball.\\n The question and answer:\", \"assistant\": \"Question: What is the proper technique for a female beach\n"
     ]
    }
   ],
   "source": [
    "# show the first few lines from the JSONL we just wrote\n",
    "for i, line in zip(range(5), OUT_JSONL.open(\"r\", encoding=\"utf-8\")):\n",
    "    print(line.rstrip()[:300])\n"
   ]
  },
  {
   "cell_type": "code",
   "execution_count": null,
   "id": "cb2b560b",
   "metadata": {},
   "outputs": [],
   "source": [
    "from pathlib import Path\n",
    "import json, random\n",
    "from tqdm import tqdm\n",
    "\n",
    "# INPUT (the file you just created from OpenOrca)\n",
    "IN_JSONL = Path(\"./sft_datasets/openorca.jsonl\")\n",
    "\n",
    "# OUTPUTS\n",
    "OUT_TRAIN = Path(\"./train_jsonl/openorca_train.jsonl\")\n",
    "OUT_VALID = Path(\"./valid_jsonl/openorca_valid.jsonl\")\n",
    "OUT_TRAIN.parent.mkdir(parents=True, exist_ok=True)\n",
    "OUT_VALID.parent.mkdir(parents=True, exist_ok=True)\n",
    "\n",
    "# SPLIT SETTINGS\n",
    "TRAIN_FRACTION = 0.95 # 95% train / 5% valid\n",
    "SEED = 1234 # reproducible shuffle\n",
    "DEDUP = True # turn off if you don't want dedup\n"
   ]
  },
  {
   "cell_type": "code",
   "execution_count": 5,
   "id": "bca06edd",
   "metadata": {},
   "outputs": [
    {
     "name": "stdout",
     "output_type": "stream",
     "text": [
      "Loaded: 994894 pairs\n",
      "After dedup: 984770 pairs\n"
     ]
    }
   ],
   "source": [
    "def iter_jsonl_lines(p):\n",
    "    with p.open(\"r\", encoding=\"utf-8\") as f:\n",
    "        for ln in f:\n",
    "            ln = ln.strip()\n",
    "            if not ln:\n",
    "                continue\n",
    "            try:\n",
    "                obj = json.loads(ln)\n",
    "            except Exception:\n",
    "                continue\n",
    "            yield obj\n",
    "\n",
    "def normalize_pair(u, a):\n",
    "    return (u or \"\").strip(), (a or \"\").strip()\n",
    "\n",
    "# load\n",
    "rows = []\n",
    "for obj in iter_jsonl_lines(IN_JSONL):\n",
    "    u, a = obj.get(\"user\"), obj.get(\"assistant\")\n",
    "    u, a = normalize_pair(u, a)\n",
    "    if u and a:\n",
    "        rows.append({\"user\": u, \"assistant\": a})\n",
    "\n",
    "print(f\"Loaded: {len(rows)} pairs\")\n",
    "\n",
    "# deduplication\n",
    "if DEDUP:\n",
    "    seen = set()\n",
    "    deduped = []\n",
    "    for r in rows:\n",
    "        key = (r[\"user\"], r[\"assistant\"])\n",
    "        if key in seen:\n",
    "            continue\n",
    "        seen.add(key)\n",
    "        deduped.append(r)\n",
    "    rows = deduped\n",
    "    print(f\"After dedup: {len(rows)} pairs\")\n"
   ]
  },
  {
   "cell_type": "code",
   "execution_count": 6,
   "id": "a44d1396",
   "metadata": {},
   "outputs": [
    {
     "name": "stdout",
     "output_type": "stream",
     "text": [
      "{'total': 984770, 'train': 935531, 'valid': 49239}\n"
     ]
    }
   ],
   "source": [
    "random.Random(SEED).shuffle(rows)\n",
    "n_total = len(rows)\n",
    "n_train = int(n_total * TRAIN_FRACTION)\n",
    "train_rows = rows[:n_train]\n",
    "valid_rows = rows[n_train:]\n",
    "\n",
    "print({\"total\": n_total, \"train\": len(train_rows), \"valid\": len(valid_rows)})\n"
   ]
  },
  {
   "cell_type": "code",
   "execution_count": 7,
   "id": "4dae1a83",
   "metadata": {},
   "outputs": [
    {
     "name": "stderr",
     "output_type": "stream",
     "text": [
      "Writing openorca_train.jsonl: 100%|██████████| 935531/935531 [00:16<00:00, 58316.05it/s]\n",
      "Writing openorca_valid.jsonl: 100%|██████████| 49239/49239 [00:00<00:00, 62204.19it/s]\n"
     ]
    },
    {
     "name": "stdout",
     "output_type": "stream",
     "text": [
      "✅ Wrote:\n",
      "  - C:\\Users\\insoo\\Documents\\Personal\\Projects\\LLM\\LLM-dummy-documentation\\8_Supervised_finetuning_Data_Schema\\train_jsonl\\openorca_train.jsonl\n",
      "  - C:\\Users\\insoo\\Documents\\Personal\\Projects\\LLM\\LLM-dummy-documentation\\8_Supervised_finetuning_Data_Schema\\valid_jsonl\\openorca_valid.jsonl\n"
     ]
    }
   ],
   "source": [
    "with OUT_TRAIN.open(\"w\", encoding=\"utf-8\") as f:\n",
    "    for r in tqdm(train_rows, desc=f\"Writing {OUT_TRAIN.name}\", total=len(train_rows)):\n",
    "        json.dump(r, f, ensure_ascii=False)\n",
    "        f.write(\"\\n\")\n",
    "\n",
    "with OUT_VALID.open(\"w\", encoding=\"utf-8\") as f:\n",
    "    for r in tqdm(valid_rows, desc=f\"Writing {OUT_VALID.name}\", total=len(valid_rows)):\n",
    "        json.dump(r, f, ensure_ascii=False)\n",
    "        f.write(\"\\n\")\n",
    "\n",
    "print(\"✅ Wrote:\")\n",
    "print(\"  -\", OUT_TRAIN.resolve())\n",
    "print(\"  -\", OUT_VALID.resolve())\n"
   ]
  },
  {
   "cell_type": "code",
   "execution_count": 8,
   "id": "8fa4bc42",
   "metadata": {},
   "outputs": [
    {
     "name": "stdout",
     "output_type": "stream",
     "text": [
      "Train sample: {'user': \"Generate a question about the following movie plot: Eleven-year-old Kevin has a vivid imagination and is fascinated by history, particularly Ancient Greece; his parents ignore his activities, having become more obsessed with buying the latest household gadgets to keep up with their neighbours. One night, as Kevin is sleeping, an armoured knight on a horse bursts out of his wardrobe. Kevin is scared and hides as the knight rides off into a forest setting where once his bedroom wall was; when Kevin looks back out, the room is back to normal and he finds one of his photos on the wall similar to the forest he saw. The next night he prepares a satchel with supplies and a Polaroid camera, but is surprised when six dwarves spill out of the wardrobe. Kevin quickly learns the group has stolen a large, worn map, and are looking for an exit from Kevin's room before they are discovered. They find that Kevin's bedroom wall can be pushed, revealing a long hallway. Kevin is hesitant to join until the visage of a menacing head â\\x80\\x93 the Supreme Being â\\x80\\x93 appears behind them, demanding the return of the map. Kevin and the dwarves fall into an empty void at the end of the hallway. They land in Italy during the Napoleonic Wars. As they recover, Kevin learns that Randall is the lead dwarf of the group composed of Fidgit, Strutter, Og, Wally, and Vermin. They were once employed by the Supreme Being to repair holes in the spacetime fabric, but instead realized the potential to use the map to steal riches. With the map and Kevin's help, they visit several locations in spacetime, and meet figures such as Napoleon Bonaparte and Robin Hood; Kevin uses his camera to document their visits. They are unaware, however, that their activities are being monitored by Evil, a malevolent being who is able to manipulate reality and is attempting to acquire the map himself so that he can remake the universe to his design. Through Evil's actions, Kevin becomes separated from the group and ends up in Mycenaean Greece, meeting King Agamemnon. After Kevin inadvertently helps Agamemnon kill a minotaur,...\\nA:\", 'assistant': \"What role does Kevin's fascination with Ancient Greece play in the adventure he embarks on with the six dwarves, and how does it influence the outcome of their encounters with historical figures like Napoleon Bonaparte, Robin Hood, and King Agamemnon?\"}\n",
      "Valid sample: {'user': 'Answer the following question: -  As the sweat evaporates the sweat sheds molecules into the air - The sweat changes into a gas - Heat is drawn from the sweat - This process draws heat from the body  What might be the last step of the process?\\nAnswer:', 'assistant': 'The last step of the process would be: The body cools down as a result of the heat being drawn away from it.\\n\\nStep-by-step justification:\\n1. As the sweat evaporates, it sheds molecules into the air.\\n2. The sweat changes from a liquid state to a gaseous state (water vapor).\\n3. Heat is drawn from the sweat during the evaporation process.\\n4. This process, in turn, draws heat away from the body.\\n5. As the body loses heat, it cools down, helping to regulate body temperature and prevent overheating.'}\n"
     ]
    }
   ],
   "source": [
    "print(\"Train sample:\", json.loads(next(open(OUT_TRAIN, \"r\", encoding=\"utf-8\"))))\n",
    "print(\"Valid sample:\", json.loads(next(open(OUT_VALID, \"r\", encoding=\"utf-8\"))))\n"
   ]
  }
 ],
 "metadata": {
  "kernelspec": {
   "display_name": "LLM-dummy-documentation (3.12.0)",
   "language": "python",
   "name": "python3"
  },
  "language_info": {
   "codemirror_mode": {
    "name": "ipython",
    "version": 3
   },
   "file_extension": ".py",
   "mimetype": "text/x-python",
   "name": "python",
   "nbconvert_exporter": "python",
   "pygments_lexer": "ipython3",
   "version": "3.12.0"
  }
 },
 "nbformat": 4,
 "nbformat_minor": 5
}
