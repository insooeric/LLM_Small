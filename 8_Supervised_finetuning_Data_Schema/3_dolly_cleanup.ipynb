{
 "cells": [
  {
   "cell_type": "markdown",
   "id": "52784cab",
   "metadata": {},
   "source": [
    "# Cleanup for Dolly"
   ]
  },
  {
   "cell_type": "code",
   "execution_count": null,
   "id": "ceab6da7",
   "metadata": {},
   "outputs": [
    {
     "name": "stdout",
     "output_type": "stream",
     "text": [
      "Reading from: C:\\Users\\insoo\\Documents\\Personal\\Projects\\LLM\\LLM-dummy-documentation\\8_Supervised_finetuning_Data_Schema\\sft_datasets\\databricks-dolly-15k.jsonl\n"
     ]
    }
   ],
   "source": [
    "from pathlib import Path\n",
    "import json, random\n",
    "from tqdm import tqdm\n",
    "\n",
    "IN_JSONL = Path(\"./sft_datasets/databricks-dolly-15k.jsonl\")\n",
    "OUT_TRAIN = Path(\"./train_jsonl/dolly_train.jsonl\")\n",
    "OUT_VALID = Path(\"./valid_jsonl/dolly_valid.jsonl\")\n",
    "\n",
    "OUT_TRAIN.parent.mkdir(parents=True, exist_ok=True)\n",
    "OUT_VALID.parent.mkdir(parents=True, exist_ok=True)\n",
    "\n",
    "TRAIN_FRACTION = 0.95\n",
    "SEED = 1337\n",
    "DEDUP = True\n",
    "\n",
    "print(\"Reading from:\", IN_JSONL.resolve())\n"
   ]
  },
  {
   "cell_type": "code",
   "execution_count": null,
   "id": "fff1354e",
   "metadata": {},
   "outputs": [],
   "source": [
    "def clean_text(x):\n",
    "    if x is None:\n",
    "        return \"\"\n",
    "    # keep original newlines to preserve structure; just strip ends\n",
    "    return str(x).strip()\n",
    "\n",
    "def join_user(instr, ctx):\n",
    "    instr = clean_text(instr)\n",
    "    ctx   = clean_text(ctx)\n",
    "    if instr and ctx:\n",
    "        return f\"{instr} {ctx}\".strip()\n",
    "    return (instr or ctx).strip()\n",
    "\n",
    "def iter_jsonl_with_total(path: Path):\n",
    "    total = sum(1 for _ in path.open(\"r\", encoding=\"utf-8\"))\n",
    "    with path.open(\"r\", encoding=\"utf-8\") as f:\n",
    "        for line in tqdm(f, total=total, desc=f\"Reading {path.name}\"):\n",
    "            line = line.strip()\n",
    "            if not line:\n",
    "                continue\n",
    "            try:\n",
    "                yield json.loads(line)\n",
    "            except Exception:\n",
    "                # bad line -> skip\n",
    "                continue\n"
   ]
  },
  {
   "cell_type": "code",
   "execution_count": 3,
   "id": "aa922b4a",
   "metadata": {},
   "outputs": [
    {
     "name": "stderr",
     "output_type": "stream",
     "text": [
      "Reading databricks-dolly-15k.jsonl: 100%|██████████| 15011/15011 [00:00<00:00, 164577.31it/s]"
     ]
    },
    {
     "name": "stdout",
     "output_type": "stream",
     "text": [
      "Loaded pairs: 15011\n",
      "After dedup: 14996\n"
     ]
    },
    {
     "name": "stderr",
     "output_type": "stream",
     "text": [
      "\n"
     ]
    }
   ],
   "source": [
    "pairs = []\n",
    "for obj in iter_jsonl_with_total(IN_JSONL):\n",
    "    u = join_user(obj.get(\"instruction\"), obj.get(\"context\"))\n",
    "    a = clean_text(obj.get(\"response\"))\n",
    "    if u and a:\n",
    "        pairs.append({\"user\": u, \"assistant\": a})\n",
    "\n",
    "print(f\"Loaded pairs: {len(pairs)}\")\n",
    "\n",
    "if DEDUP:\n",
    "    seen = set()\n",
    "    deduped = []\n",
    "    for r in pairs:\n",
    "        key = (r[\"user\"], r[\"assistant\"])\n",
    "        if key in seen:\n",
    "            continue\n",
    "        seen.add(key)\n",
    "        deduped.append(r)\n",
    "    pairs = deduped\n",
    "    print(f\"After dedup: {len(pairs)}\")\n"
   ]
  },
  {
   "cell_type": "code",
   "execution_count": 4,
   "id": "1de96345",
   "metadata": {},
   "outputs": [
    {
     "name": "stdout",
     "output_type": "stream",
     "text": [
      "{'total': 14996, 'train': 14246, 'valid': 750}\n"
     ]
    },
    {
     "name": "stderr",
     "output_type": "stream",
     "text": [
      "Writing dolly_train.jsonl: 100%|██████████| 14246/14246 [00:00<00:00, 75495.23it/s]\n",
      "Writing dolly_valid.jsonl: 100%|██████████| 750/750 [00:00<00:00, 65123.55it/s]"
     ]
    },
    {
     "name": "stdout",
     "output_type": "stream",
     "text": [
      "✅ Wrote:\n",
      "  - C:\\Users\\insoo\\Documents\\Personal\\Projects\\LLM\\LLM-dummy-documentation\\8_Supervised_finetuning_Data_Schema\\train_jsonl\\dolly_train.jsonl\n",
      "  - C:\\Users\\insoo\\Documents\\Personal\\Projects\\LLM\\LLM-dummy-documentation\\8_Supervised_finetuning_Data_Schema\\valid_jsonl\\dolly_valid.jsonl\n"
     ]
    },
    {
     "name": "stderr",
     "output_type": "stream",
     "text": [
      "\n"
     ]
    }
   ],
   "source": [
    "random.Random(SEED).shuffle(pairs)\n",
    "\n",
    "n_total = len(pairs)\n",
    "n_train = int(n_total * TRAIN_FRACTION)\n",
    "train_rows = pairs[:n_train]\n",
    "valid_rows = pairs[n_train:]\n",
    "\n",
    "print({\"total\": n_total, \"train\": len(train_rows), \"valid\": len(valid_rows)})\n",
    "\n",
    "with OUT_TRAIN.open(\"w\", encoding=\"utf-8\") as f:\n",
    "    for r in tqdm(train_rows, desc=f\"Writing {OUT_TRAIN.name}\", total=len(train_rows)):\n",
    "        json.dump(r, f, ensure_ascii=False)\n",
    "        f.write(\"\\n\")\n",
    "\n",
    "with OUT_VALID.open(\"w\", encoding=\"utf-8\") as f:\n",
    "    for r in tqdm(valid_rows, desc=f\"Writing {OUT_VALID.name}\", total=len(valid_rows)):\n",
    "        json.dump(r, f, ensure_ascii=False)\n",
    "        f.write(\"\\n\")\n",
    "\n",
    "print(\"✅ Wrote:\")\n",
    "print(\"  -\", OUT_TRAIN.resolve())\n",
    "print(\"  -\", OUT_VALID.resolve())\n"
   ]
  },
  {
   "cell_type": "code",
   "execution_count": 5,
   "id": "f9625df9",
   "metadata": {},
   "outputs": [
    {
     "name": "stdout",
     "output_type": "stream",
     "text": [
      "Train sample: {'user': 'Why do some people like horror films?', 'assistant': \"Horror films can provide a safe way for us to mentally rehearse how we'd handle real danger.  Some people actually enjoy the scary emotions that horror films elicit.   It can provide a unique adrenaline rush, somewhat similar to other fearful activities, like white water rafting, jumping out of airplanes, amusement park rides and flying in a small aircraft.  For many, horror films are their least liked movie genre for those same reasons.  They might prefer a romantic comedy or action triller, without all the blood and diabolical antagonists.\"}\n",
      "Valid sample: {'user': 'How popular were figs in ancient Rome? Traditional dried fruit such as raisins, figs, dates, apricots and apples have been a staple of Mediterranean diets for millennia. This is due partly to their early cultivation in the Middle Eastern region known as the Fertile Crescent, made up by parts of modern Iran, Iraq, southwest Turkey, Syria, Lebanon, Palestine, Israel, and northern Egypt. Drying or dehydration also happened to be the earliest form of food preservation: grapes, dates, and figs that fell from the tree or vine would dry in the hot sun. Early hunter-gatherers observed that these fallen fruit took on an edible form, and valued them for their stability as well as their concentrated sweetness. \\nThe earliest recorded mention of dried fruits can be found in Mesopotamian tablets dating to about 1500 BC, which contain what are probably the oldest known written recipes. These clay slabs, written in Akkadian, the daily language of Babylonia, were inscribed in cuneiform and tell of diets based on grains (barley, millet, wheat), vegetables and fruits such as dates, figs, apples, pomegranates, and grapes. These early civilizations used dates, date juice evaporated into syrup and raisins as sweeteners. They included dried fruits in their breads for which they had more than 300 recipes, from simple barley bread for the workers to very elaborate, spiced cakes with honey for the palaces and temples.\\nThe date palm was one of the first cultivated trees. It was domesticated in Mesopotamia more than 5,000 years ago. It grew abundantly in the Fertile Crescent and it was so productive (an average date palm produces 50 kg (100 lbs) of fruit a year for 60 years or more) that dates were the cheapest of staple foods. Because they were so valuable, they were well recorded in Assyrian and Babylonian monuments and temples. The villagers in Mesopotamia dried them and ate them as sweets. Whether fresh, soft-dried or hard-dried, they helped to give character to meat dishes and grain pies. They were valued by travelers for their energy and were recommended as stimulants against fatigue.\\nFigs were also prized in early Mesopotamia, Palestine, Israel, and Egypt where their daily use was probably greater than or equal to that of dates. As well as appearing in wall paintings, many specimens have been found in Egyptian tombs as funerary offerings. In Greece and Crete, figs grew very readily and they were the staple of poor and rich alike, particularly in their dried form.\\nGrape cultivation first began in Armenia and the eastern regions of the Mediterranean in the 4th century BC. Raisins were produced by drying grapes in the hot desert sun. Very quickly, viticulture and raisin production spread across northern Africa including Morocco and Tunisia. The Phoenicians and the Egyptians popularized the production of raisins, probably due to the perfect arid environment for sun drying. They put them in jars for storage and allotted them to the different temples by the thousands. They also added them to breads and various pastries, some made with honey, some with milk and eggs.\\nFrom the Middle East, these fruits spread through Greece to Italy where they became a major part of the diet. Ancient Romans consumed raisins in spectacular quantities and at all levels of society, including them as a key part of their common meals, along with olives and fresh fruits. Raisined breads were common for breakfast and were consumed with their grains, beans, and cultured milks. Raisins were so valued that they transcended the food realm and became rewards for successful athletes, as well as premium barter currency.\\nHaving dried fruits was essential in ancient Rome as these instructions for housekeepers around 100 BC tell: \"She must keep a supply of cooked food on hand for you and the servants. She must keep many hens and have plenty of eggs. She must have a large store of dried pears, sorbs, figs, raisins, sorbs in must, preserved pears and grapes and quinces. She must also keep preserved grapes in grape-pulp and in pots buried in the ground, as well as fresh Praenestine nuts kept in the same way, and Scantian quinces in jars, and other fruits that are usually preserved, as well as wild fruits. All these she must store away diligently every year.\"\\nFigs were also extremely popular in Rome. Dried figs were added to bread and formed a major part of the winter food of country people. They were rubbed with spices such as cumin, anise and fennel seeds, or toasted sesame, wrapped in fig leaves and stored in jars. Today, major producing regions include Israel, Jerusalem, Gaza and many other Arabic countries. Dried figs are rich in vitamins, phosphorus and various other important minerals.\\nPlums, apricots and peaches had their origins in Asia. They were domesticated in China in the 3rd millennium BC and spread to the Fertile Crescent where they were also very popular, fresh and dried alike. They arrived in Greece and Italy much later and were very expensive but valued in the preparation of gourmet dishes with port or stewed with honey and spices.', 'assistant': 'Figs were extremely popular in Rome. Dried figs were added to bread and formed a major part of the winter food of country people. They were rubbed with spices such as cumin, anise and fennel seeds, or toasted sesame, wrapped in fig leaves and stored in jars.'}\n"
     ]
    }
   ],
   "source": [
    "print(\"Train sample:\", json.loads(next(open(OUT_TRAIN, \"r\", encoding=\"utf-8\"))))\n",
    "print(\"Valid sample:\", json.loads(next(open(OUT_VALID, \"r\", encoding=\"utf-8\"))))\n"
   ]
  }
 ],
 "metadata": {
  "kernelspec": {
   "display_name": "LLM-dummy-documentation (3.12.0)",
   "language": "python",
   "name": "python3"
  },
  "language_info": {
   "codemirror_mode": {
    "name": "ipython",
    "version": 3
   },
   "file_extension": ".py",
   "mimetype": "text/x-python",
   "name": "python",
   "nbconvert_exporter": "python",
   "pygments_lexer": "ipython3",
   "version": "3.12.0"
  }
 },
 "nbformat": 4,
 "nbformat_minor": 5
}
