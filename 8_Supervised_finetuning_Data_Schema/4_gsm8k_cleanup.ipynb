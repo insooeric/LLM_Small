{
 "cells": [
  {
   "cell_type": "markdown",
   "id": "40b4085d",
   "metadata": {},
   "source": [
    "# Cleanup for GSM9K"
   ]
  },
  {
   "cell_type": "code",
   "execution_count": 1,
   "id": "35594021",
   "metadata": {},
   "outputs": [
    {
     "name": "stdout",
     "output_type": "stream",
     "text": [
      "Expecting: C:\\Users\\insoo\\Documents\\Personal\\Projects\\LLM\\LLM-dummy-documentation\\8_Supervised_finetuning_Data_Schema\\train_parquet\\gsm8k_train.parquet\n",
      "Expecting: C:\\Users\\insoo\\Documents\\Personal\\Projects\\LLM\\LLM-dummy-documentation\\8_Supervised_finetuning_Data_Schema\\valid_parquet\\gsm8k_valid.parquet\n"
     ]
    }
   ],
   "source": [
    "from pathlib import Path\n",
    "import json\n",
    "import pandas as pd\n",
    "from tqdm import tqdm\n",
    "\n",
    "# directory setup\n",
    "ROOT = Path(\"./\")\n",
    "TRAIN_PARQUET = ROOT / \"train_parquet\" / \"gsm8k_train.parquet\"\n",
    "VALID_PARQUET = ROOT / \"valid_parquet\" / \"gsm8k_valid.parquet\"\n",
    "\n",
    "OUT_TRAIN = ROOT / \"train_jsonl\" / \"gsm8k_train.jsonl\"\n",
    "OUT_VALID = ROOT / \"valid_jsonl\" / \"gsm8k_valid.jsonl\"\n",
    "OUT_TRAIN.parent.mkdir(parents=True, exist_ok=True)\n",
    "OUT_VALID.parent.mkdir(parents=True, exist_ok=True)\n",
    "\n",
    "# sanity check\n",
    "for p in [TRAIN_PARQUET, VALID_PARQUET]:\n",
    "    print(\"Expecting:\", p.resolve())\n",
    "    if not p.exists():\n",
    "        raise FileNotFoundError(f\"Missing: {p.resolve()}\")\n"
   ]
  },
  {
   "cell_type": "code",
   "execution_count": 2,
   "id": "303cadac",
   "metadata": {},
   "outputs": [],
   "source": [
    "def parquet_to_pairs(in_path: Path, out_jsonl: Path, skip_rows: int = 0):\n",
    "    print(f\"\\n=== Processing {in_path.name} → {out_jsonl.name} ===\")\n",
    "    df = pd.read_parquet(in_path)\n",
    "\n",
    "    # ensure required columns exist\n",
    "    for col in (\"question\", \"answer\"):\n",
    "        if col not in df.columns:\n",
    "            raise KeyError(f\"Column {col!r} not found in {in_path.name}. Columns={list(df.columns)}\")\n",
    "\n",
    "    # skip first N rows (since it contains keys for each columns)\n",
    "    if skip_rows > 0:\n",
    "        df = df.iloc[skip_rows:].copy()\n",
    "\n",
    "    # drop NaNs\n",
    "    before = len(df)\n",
    "    df = df[df[\"question\"].notna() & df[\"answer\"].notna()]\n",
    "    after = len(df)\n",
    "    print(f\"Rows kept after NaN drop: {after}/{before}\")\n",
    "\n",
    "    # write out to JSONL\n",
    "    with out_jsonl.open(\"w\", encoding=\"utf-8\") as f:\n",
    "        for q, a in tqdm(zip(df[\"question\"], df[\"answer\"]),\n",
    "                         total=len(df), desc=f\"Writing {out_jsonl.name}\"):\n",
    "            obj = {\"user\": str(q).strip(), \"assistant\": str(a).strip()}\n",
    "            json.dump(obj, f, ensure_ascii=False)\n",
    "            f.write(\"\\n\")\n",
    "\n",
    "    print(f\"✅ Wrote {after} pairs to {out_jsonl.resolve()}\")\n"
   ]
  },
  {
   "cell_type": "code",
   "execution_count": 3,
   "id": "9a982905",
   "metadata": {},
   "outputs": [
    {
     "name": "stdout",
     "output_type": "stream",
     "text": [
      "\n",
      "=== Processing gsm8k_train.parquet → gsm8k_train.jsonl ===\n",
      "Rows kept after NaN drop: 7473/7473\n"
     ]
    },
    {
     "name": "stderr",
     "output_type": "stream",
     "text": [
      "Writing gsm8k_train.jsonl: 100%|██████████| 7473/7473 [00:00<00:00, 96603.69it/s]\n"
     ]
    },
    {
     "name": "stdout",
     "output_type": "stream",
     "text": [
      "✅ Wrote 7473 pairs to C:\\Users\\insoo\\Documents\\Personal\\Projects\\LLM\\LLM-dummy-documentation\\8_Supervised_finetuning_Data_Schema\\train_jsonl\\gsm8k_train.jsonl\n",
      "\n",
      "=== Processing gsm8k_valid.parquet → gsm8k_valid.jsonl ===\n",
      "Rows kept after NaN drop: 1319/1319\n"
     ]
    },
    {
     "name": "stderr",
     "output_type": "stream",
     "text": [
      "Writing gsm8k_valid.jsonl: 100%|██████████| 1319/1319 [00:00<00:00, 97282.95it/s]"
     ]
    },
    {
     "name": "stdout",
     "output_type": "stream",
     "text": [
      "✅ Wrote 1319 pairs to C:\\Users\\insoo\\Documents\\Personal\\Projects\\LLM\\LLM-dummy-documentation\\8_Supervised_finetuning_Data_Schema\\valid_jsonl\\gsm8k_valid.jsonl\n"
     ]
    },
    {
     "name": "stderr",
     "output_type": "stream",
     "text": [
      "\n"
     ]
    }
   ],
   "source": [
    "parquet_to_pairs(TRAIN_PARQUET, OUT_TRAIN, skip_rows=0)\n",
    "parquet_to_pairs(VALID_PARQUET, OUT_VALID, skip_rows=0)"
   ]
  }
 ],
 "metadata": {
  "kernelspec": {
   "display_name": "LLM-dummy-documentation (3.12.0)",
   "language": "python",
   "name": "python3"
  },
  "language_info": {
   "codemirror_mode": {
    "name": "ipython",
    "version": 3
   },
   "file_extension": ".py",
   "mimetype": "text/x-python",
   "name": "python",
   "nbconvert_exporter": "python",
   "pygments_lexer": "ipython3",
   "version": "3.12.0"
  }
 },
 "nbformat": 4,
 "nbformat_minor": 5
}
