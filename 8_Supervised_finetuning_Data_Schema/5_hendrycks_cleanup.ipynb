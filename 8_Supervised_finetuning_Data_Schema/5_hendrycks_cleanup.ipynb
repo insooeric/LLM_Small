{
 "cells": [
  {
   "cell_type": "markdown",
   "id": "529581d5",
   "metadata": {},
   "source": [
    "# Cleanup HENDRYCKS"
   ]
  },
  {
   "cell_type": "code",
   "execution_count": 1,
   "id": "c39dffb9",
   "metadata": {},
   "outputs": [],
   "source": [
    "from pathlib import Path\n",
    "import json\n",
    "import pandas as pd\n",
    "from tqdm import tqdm\n",
    "\n",
    "ROOT = Path(\"./\")\n",
    "\n",
    "TRAIN_PARQS = [\n",
    "    ROOT / \"train_parquet\" / f\"hendrycks_math_train_{i}.parquet\"\n",
    "    for i in range(1, 5)\n",
    "]\n",
    "VALID_PARQS = [\n",
    "    ROOT / \"valid_parquet\" / f\"hendrycks_math_valid_{i}.parquet\"\n",
    "    for i in range(1, 5)\n",
    "]\n",
    "\n",
    "OUT_TRAIN_DIR = ROOT / \"train_jsonl\"\n",
    "OUT_VALID_DIR = ROOT / \"valid_jsonl\"\n",
    "OUT_TRAIN_DIR.mkdir(parents=True, exist_ok=True)\n",
    "OUT_VALID_DIR.mkdir(parents=True, exist_ok=True)\n",
    "\n",
    "# sanity\n",
    "for p in TRAIN_PARQS + VALID_PARQS:\n",
    "    p\n"
   ]
  },
  {
   "cell_type": "code",
   "execution_count": 2,
   "id": "5eaa7a80",
   "metadata": {},
   "outputs": [],
   "source": [
    "def parquet_to_pairs(in_path: Path, out_jsonl: Path, skip_rows: int = 0):\n",
    "    print(f\"\\n=== {in_path.name} -> {out_jsonl.name} ===\")\n",
    "    df = pd.read_parquet(in_path)\n",
    "\n",
    "    # required columns\n",
    "    for col in (\"problem\", \"solution\"):\n",
    "        if col not in df.columns:\n",
    "            raise KeyError(f\"{in_path.name} missing column {col!r}. Columns={list(df.columns)}\")\n",
    "\n",
    "    if skip_rows > 0:\n",
    "        df = df.iloc[skip_rows:].copy()\n",
    "\n",
    "    # drop NaNs\n",
    "    before = len(df)\n",
    "    df = df[df[\"problem\"].notna() & df[\"solution\"].notna()]\n",
    "    after = len(df)\n",
    "    print(f\"Rows kept after NaN drop: {after}/{before}\")\n",
    "\n",
    "    # write JSONL with tqdm\n",
    "    with out_jsonl.open(\"w\", encoding=\"utf-8\") as f:\n",
    "        for q, a in tqdm(zip(df[\"problem\"], df[\"solution\"]),\n",
    "                         total=len(df), desc=f\"Writing {out_jsonl.name}\"):\n",
    "            obj = {\"user\": str(q).strip(), \"assistant\": str(a).strip()}\n",
    "            json.dump(obj, f, ensure_ascii=False)\n",
    "            f.write(\"\\n\")\n",
    "\n",
    "    print(f\"✅ Wrote {after} pairs → {out_jsonl.resolve()}\")\n"
   ]
  },
  {
   "cell_type": "code",
   "execution_count": 3,
   "id": "08e474ad",
   "metadata": {},
   "outputs": [
    {
     "name": "stderr",
     "output_type": "stream",
     "text": [
      "Train files:   0%|          | 0/4 [00:00<?, ?it/s]"
     ]
    },
    {
     "name": "stdout",
     "output_type": "stream",
     "text": [
      "\n",
      "=== hendrycks_math_train_1.parquet -> hendrycks_math_train_1.jsonl ===\n",
      "Rows kept after NaN drop: 869/869\n"
     ]
    },
    {
     "name": "stderr",
     "output_type": "stream",
     "text": [
      "Writing hendrycks_math_train_1.jsonl: 100%|██████████| 869/869 [00:00<00:00, 85945.20it/s]\n"
     ]
    },
    {
     "name": "stdout",
     "output_type": "stream",
     "text": [
      "✅ Wrote 869 pairs → C:\\Users\\insoo\\Documents\\Personal\\Projects\\LLM\\LLM-dummy-documentation\\8_Supervised_finetuning_Data_Schema\\train_jsonl\\hendrycks_math_train_1.jsonl\n",
      "\n",
      "=== hendrycks_math_train_2.parquet -> hendrycks_math_train_2.jsonl ===\n",
      "Rows kept after NaN drop: 1295/1295\n"
     ]
    },
    {
     "name": "stderr",
     "output_type": "stream",
     "text": [
      "Writing hendrycks_math_train_2.jsonl: 100%|██████████| 1295/1295 [00:00<00:00, 76822.01it/s]\n",
      "Train files:  50%|█████     | 2/4 [00:00<00:00, 16.30it/s]"
     ]
    },
    {
     "name": "stdout",
     "output_type": "stream",
     "text": [
      "✅ Wrote 1295 pairs → C:\\Users\\insoo\\Documents\\Personal\\Projects\\LLM\\LLM-dummy-documentation\\8_Supervised_finetuning_Data_Schema\\train_jsonl\\hendrycks_math_train_2.jsonl\n",
      "\n",
      "=== hendrycks_math_train_3.parquet -> hendrycks_math_train_3.jsonl ===\n",
      "Rows kept after NaN drop: 771/771\n"
     ]
    },
    {
     "name": "stderr",
     "output_type": "stream",
     "text": [
      "Writing hendrycks_math_train_3.jsonl: 100%|██████████| 771/771 [00:00<00:00, 72521.55it/s]\n"
     ]
    },
    {
     "name": "stdout",
     "output_type": "stream",
     "text": [
      "✅ Wrote 771 pairs → C:\\Users\\insoo\\Documents\\Personal\\Projects\\LLM\\LLM-dummy-documentation\\8_Supervised_finetuning_Data_Schema\\train_jsonl\\hendrycks_math_train_3.jsonl\n",
      "\n",
      "=== hendrycks_math_train_4.parquet -> hendrycks_math_train_4.jsonl ===\n",
      "Rows kept after NaN drop: 1744/1744\n"
     ]
    },
    {
     "name": "stderr",
     "output_type": "stream",
     "text": [
      "Writing hendrycks_math_train_4.jsonl: 100%|██████████| 1744/1744 [00:00<00:00, 93880.23it/s]\n",
      "Train files: 100%|██████████| 4/4 [00:00<00:00, 19.34it/s]"
     ]
    },
    {
     "name": "stdout",
     "output_type": "stream",
     "text": [
      "✅ Wrote 1744 pairs → C:\\Users\\insoo\\Documents\\Personal\\Projects\\LLM\\LLM-dummy-documentation\\8_Supervised_finetuning_Data_Schema\\train_jsonl\\hendrycks_math_train_4.jsonl\n"
     ]
    },
    {
     "name": "stderr",
     "output_type": "stream",
     "text": [
      "\n"
     ]
    }
   ],
   "source": [
    "for p in tqdm(TRAIN_PARQS, desc=\"Train files\"):\n",
    "    out = OUT_TRAIN_DIR / (p.stem + \".jsonl\")  # e.g., hendrycks_math_train_1_pairs.jsonl\n",
    "    parquet_to_pairs(p, out)\n"
   ]
  },
  {
   "cell_type": "code",
   "execution_count": 4,
   "id": "999a3751",
   "metadata": {},
   "outputs": [
    {
     "name": "stderr",
     "output_type": "stream",
     "text": [
      "Valid files:   0%|          | 0/4 [00:00<?, ?it/s]"
     ]
    },
    {
     "name": "stdout",
     "output_type": "stream",
     "text": [
      "\n",
      "=== hendrycks_math_valid_1.parquet -> hendrycks_math_valid_1.jsonl ===\n",
      "Rows kept after NaN drop: 540/540\n"
     ]
    },
    {
     "name": "stderr",
     "output_type": "stream",
     "text": [
      "Writing hendrycks_math_valid_1.jsonl: 100%|██████████| 540/540 [00:00<00:00, 89721.29it/s]\n"
     ]
    },
    {
     "name": "stdout",
     "output_type": "stream",
     "text": [
      "✅ Wrote 540 pairs → C:\\Users\\insoo\\Documents\\Personal\\Projects\\LLM\\LLM-dummy-documentation\\8_Supervised_finetuning_Data_Schema\\valid_jsonl\\hendrycks_math_valid_1.jsonl\n",
      "\n",
      "=== hendrycks_math_valid_2.parquet -> hendrycks_math_valid_2.jsonl ===\n",
      "Rows kept after NaN drop: 903/903\n"
     ]
    },
    {
     "name": "stderr",
     "output_type": "stream",
     "text": [
      "Writing hendrycks_math_valid_2.jsonl: 100%|██████████| 903/903 [00:00<00:00, 74018.58it/s]\n"
     ]
    },
    {
     "name": "stdout",
     "output_type": "stream",
     "text": [
      "✅ Wrote 903 pairs → C:\\Users\\insoo\\Documents\\Personal\\Projects\\LLM\\LLM-dummy-documentation\\8_Supervised_finetuning_Data_Schema\\valid_jsonl\\hendrycks_math_valid_2.jsonl\n",
      "\n",
      "=== hendrycks_math_valid_3.parquet -> hendrycks_math_valid_3.jsonl ===\n",
      "Rows kept after NaN drop: 474/474\n"
     ]
    },
    {
     "name": "stderr",
     "output_type": "stream",
     "text": [
      "Writing hendrycks_math_valid_3.jsonl: 100%|██████████| 474/474 [00:00<00:00, 77255.77it/s]\n",
      "Valid files:  75%|███████▌  | 3/4 [00:00<00:00, 27.08it/s]"
     ]
    },
    {
     "name": "stdout",
     "output_type": "stream",
     "text": [
      "✅ Wrote 474 pairs → C:\\Users\\insoo\\Documents\\Personal\\Projects\\LLM\\LLM-dummy-documentation\\8_Supervised_finetuning_Data_Schema\\valid_jsonl\\hendrycks_math_valid_3.jsonl\n",
      "\n",
      "=== hendrycks_math_valid_4.parquet -> hendrycks_math_valid_4.jsonl ===\n",
      "Rows kept after NaN drop: 1187/1187\n"
     ]
    },
    {
     "name": "stderr",
     "output_type": "stream",
     "text": [
      "Writing hendrycks_math_valid_4.jsonl: 100%|██████████| 1187/1187 [00:00<00:00, 307608.21it/s]\n",
      "Valid files: 100%|██████████| 4/4 [00:00<00:00, 27.26it/s]"
     ]
    },
    {
     "name": "stdout",
     "output_type": "stream",
     "text": [
      "✅ Wrote 1187 pairs → C:\\Users\\insoo\\Documents\\Personal\\Projects\\LLM\\LLM-dummy-documentation\\8_Supervised_finetuning_Data_Schema\\valid_jsonl\\hendrycks_math_valid_4.jsonl\n"
     ]
    },
    {
     "name": "stderr",
     "output_type": "stream",
     "text": [
      "\n"
     ]
    }
   ],
   "source": [
    "for p in tqdm(VALID_PARQS, desc=\"Valid files\"):\n",
    "    out = OUT_VALID_DIR / (p.stem + \".jsonl\")\n",
    "    parquet_to_pairs(p, out)\n"
   ]
  },
  {
   "cell_type": "code",
   "execution_count": 5,
   "id": "04131966",
   "metadata": {},
   "outputs": [
    {
     "name": "stdout",
     "output_type": "stream",
     "text": [
      "Sample output: C:\\Users\\insoo\\Documents\\Personal\\Projects\\LLM\\LLM-dummy-documentation\\8_Supervised_finetuning_Data_Schema\\train_jsonl\\hendrycks_math_train_1.jsonl\n",
      "{\"user\": \"If $AAA_4$ can be expressed as $33_b$, where $A$ is a digit in base 4 and $b$ is a base greater than 5, what is the smallest possible sum $A+b$?\", \"assistant\": \"We can rewrite $AAA_4$ and $33_b$ to get \\\\begin{align*}\\n16A+4A+A&=3b+3\\\\quad\\\\Rightarrow\\\\\\\\\\n21A&=3b+3.\\n\\\\end{align*}The smal\n",
      "{\"user\": \"A very large number $x$ is equal to $2^23^34^45^56^67^78^89^9$. What is the smallest positive integer that, when multiplied with $x$, produces a product that is a perfect square?\", \"assistant\": \"For the product to be a perfect square, all the exponents need to be even. So we don't need to \n",
      "{\"user\": \"When the base-16 number $66666_{16}$ is written in base 2, how many base-2 digits (bits) does it have?\", \"assistant\": \"We have \\\\begin{align*}\\n66666_{16} &= 6\\\\cdot 16^4 + 6\\\\cdot 16^3 + 6\\\\cdot 16^2 + 6\\\\cdot 16 + 6 \\\\\\\\\\n&= 6\\\\cdot (16^4+16^3+16^2+16+1) \\\\\\\\\\n&= 6\\\\cdot (2^{16}+2^{12}+2\n"
     ]
    }
   ],
   "source": [
    "sample_out = OUT_TRAIN_DIR / \"hendrycks_math_train_1.jsonl\"\n",
    "print(\"Sample output:\", sample_out.resolve())\n",
    "for i, line in zip(range(3), sample_out.open(\"r\", encoding=\"utf-8\")):\n",
    "    print(line.rstrip()[:300])\n"
   ]
  },
  {
   "cell_type": "code",
   "execution_count": 6,
   "id": "99f211cd",
   "metadata": {},
   "outputs": [
    {
     "name": "stdout",
     "output_type": "stream",
     "text": [
      "Expecting: C:\\Users\\insoo\\Documents\\Personal\\Projects\\LLM\\LLM-dummy-documentation\\8_Supervised_finetuning_Data_Schema\\train_jsonl\\hendrycks_math_train_1.jsonl\n",
      "Expecting: C:\\Users\\insoo\\Documents\\Personal\\Projects\\LLM\\LLM-dummy-documentation\\8_Supervised_finetuning_Data_Schema\\train_jsonl\\hendrycks_math_train_2.jsonl\n",
      "Expecting: C:\\Users\\insoo\\Documents\\Personal\\Projects\\LLM\\LLM-dummy-documentation\\8_Supervised_finetuning_Data_Schema\\train_jsonl\\hendrycks_math_train_3.jsonl\n",
      "Expecting: C:\\Users\\insoo\\Documents\\Personal\\Projects\\LLM\\LLM-dummy-documentation\\8_Supervised_finetuning_Data_Schema\\train_jsonl\\hendrycks_math_train_4.jsonl\n",
      "Output  : C:\\Users\\insoo\\Documents\\Personal\\Projects\\LLM\\LLM-dummy-documentation\\8_Supervised_finetuning_Data_Schema\\train_jsonl\\hendrycks_math_train.jsonl\n"
     ]
    }
   ],
   "source": [
    "from pathlib import Path\n",
    "import json\n",
    "from tqdm import tqdm\n",
    "\n",
    "ROOT = Path(\"./\")\n",
    "IN_FILES = [\n",
    "    ROOT / \"train_jsonl\" / \"hendrycks_math_train_1.jsonl\",\n",
    "    ROOT / \"train_jsonl\" / \"hendrycks_math_train_2.jsonl\",\n",
    "    ROOT / \"train_jsonl\" / \"hendrycks_math_train_3.jsonl\",\n",
    "    ROOT / \"train_jsonl\" / \"hendrycks_math_train_4.jsonl\",\n",
    "]\n",
    "OUT_FILE = ROOT / \"train_jsonl\" / \"hendrycks_math_train.jsonl\"\n",
    "OUT_FILE.parent.mkdir(parents=True, exist_ok=True)\n",
    "\n",
    "for p in IN_FILES:\n",
    "    print(\"Expecting:\", p.resolve())\n",
    "    if not p.exists():\n",
    "        raise FileNotFoundError(f\"Missing: {p}\")\n",
    "print(\"Output  :\", OUT_FILE.resolve())\n"
   ]
  },
  {
   "cell_type": "code",
   "execution_count": 8,
   "id": "a9bcff04",
   "metadata": {},
   "outputs": [
    {
     "name": "stderr",
     "output_type": "stream",
     "text": [
      "Merging → hendrycks_math_train.jsonl: 100%|██████████| 4679/4679 [00:00<00:00, 61699.75it/s]"
     ]
    },
    {
     "name": "stdout",
     "output_type": "stream",
     "text": [
      "✅ Done. Kept 4679 pairs, skipped 0.\n",
      "Wrote: C:\\Users\\insoo\\Documents\\Personal\\Projects\\LLM\\LLM-dummy-documentation\\8_Supervised_finetuning_Data_Schema\\train_jsonl\\hendrycks_math_train.jsonl\n"
     ]
    },
    {
     "name": "stderr",
     "output_type": "stream",
     "text": [
      "\n"
     ]
    }
   ],
   "source": [
    "def count_lines(path: Path) -> int:\n",
    "    with path.open(\"r\", encoding=\"utf-8\") as f:\n",
    "        return sum(1 for _ in f)\n",
    "\n",
    "total_in = sum(count_lines(p) for p in IN_FILES)\n",
    "kept = 0\n",
    "skipped = 0\n",
    "\n",
    "with OUT_FILE.open(\"w\", encoding=\"utf-8\") as fout:\n",
    "    pbar = tqdm(total=total_in, desc=f\"Merging → {OUT_FILE.name}\")\n",
    "    for src in IN_FILES:\n",
    "        with src.open(\"r\", encoding=\"utf-8\") as fin:\n",
    "            for line in fin:\n",
    "                pbar.update(1)\n",
    "                line = line.strip()\n",
    "                if not line:\n",
    "                    skipped += 1\n",
    "                    continue\n",
    "                try:\n",
    "                    obj = json.loads(line)\n",
    "                except Exception:\n",
    "                    skipped += 1\n",
    "                    continue\n",
    "                u = (obj.get(\"user\") or \"\").strip()\n",
    "                a = (obj.get(\"assistant\") or \"\").strip()\n",
    "                if not (u and a):\n",
    "                    skipped += 1\n",
    "                    continue\n",
    "                json.dump({\"user\": u, \"assistant\": a}, fout, ensure_ascii=False)\n",
    "                fout.write(\"\\n\")\n",
    "                kept += 1\n",
    "    pbar.close()\n",
    "\n",
    "print(f\"✅ Done. Kept {kept} pairs, skipped {skipped}.\")\n",
    "print(\"Wrote:\", OUT_FILE.resolve())\n"
   ]
  },
  {
   "cell_type": "code",
   "execution_count": 9,
   "id": "36b4fe9b",
   "metadata": {},
   "outputs": [
    {
     "name": "stderr",
     "output_type": "stream",
     "text": [
      "Merging → hendrycks_math_valid.jsonl: 100%|██████████| 3104/3104 [00:00<00:00, 73127.56it/s]"
     ]
    },
    {
     "name": "stdout",
     "output_type": "stream",
     "text": [
      "✅ Valid merged. Kept 3104, skipped 0.\n",
      "Wrote: C:\\Users\\insoo\\Documents\\Personal\\Projects\\LLM\\LLM-dummy-documentation\\8_Supervised_finetuning_Data_Schema\\valid_jsonl\\hendrycks_math_valid.jsonl\n"
     ]
    },
    {
     "name": "stderr",
     "output_type": "stream",
     "text": [
      "\n"
     ]
    }
   ],
   "source": [
    "IN_VALID = [\n",
    "    ROOT / \"valid_jsonl\" / \"hendrycks_math_valid_1.jsonl\",\n",
    "    ROOT / \"valid_jsonl\" / \"hendrycks_math_valid_2.jsonl\",\n",
    "    ROOT / \"valid_jsonl\" / \"hendrycks_math_valid_3.jsonl\",\n",
    "    ROOT / \"valid_jsonl\" / \"hendrycks_math_valid_4.jsonl\",\n",
    "]\n",
    "OUT_VALID = ROOT / \"valid_jsonl\" / \"hendrycks_math_valid.jsonl\"\n",
    "\n",
    "total_in = sum(count_lines(p) for p in IN_VALID)\n",
    "kept = skipped = 0\n",
    "with OUT_VALID.open(\"w\", encoding=\"utf-8\") as fout:\n",
    "    pbar = tqdm(total=total_in, desc=f\"Merging → {OUT_VALID.name}\")\n",
    "    for src in IN_VALID:\n",
    "        with src.open(\"r\", encoding=\"utf-8\") as fin:\n",
    "            for line in fin:\n",
    "                pbar.update(1)\n",
    "                line = line.strip()\n",
    "                if not line:\n",
    "                    skipped += 1; continue\n",
    "                try:\n",
    "                    obj = json.loads(line)\n",
    "                except Exception:\n",
    "                    skipped += 1; continue\n",
    "                u = (obj.get(\"user\") or \"\").strip()\n",
    "                a = (obj.get(\"assistant\") or \"\").strip()\n",
    "                if not (u and a):\n",
    "                    skipped += 1; continue\n",
    "                json.dump({\"user\": u, \"assistant\": a}, fout, ensure_ascii=False)\n",
    "                fout.write(\"\\n\"); kept += 1\n",
    "    pbar.close()\n",
    "\n",
    "print(f\"✅ Valid merged. Kept {kept}, skipped {skipped}.\")\n",
    "print(\"Wrote:\", OUT_VALID.resolve())\n"
   ]
  },
  {
   "cell_type": "markdown",
   "id": "3380674d",
   "metadata": {},
   "source": [
    "then remove all hendrycks_math_train/valid_#number.jsonl"
   ]
  }
 ],
 "metadata": {
  "kernelspec": {
   "display_name": "LLM-dummy-documentation (3.12.0)",
   "language": "python",
   "name": "python3"
  },
  "language_info": {
   "codemirror_mode": {
    "name": "ipython",
    "version": 3
   },
   "file_extension": ".py",
   "mimetype": "text/x-python",
   "name": "python",
   "nbconvert_exporter": "python",
   "pygments_lexer": "ipython3",
   "version": "3.12.0"
  }
 },
 "nbformat": 4,
 "nbformat_minor": 5
}
