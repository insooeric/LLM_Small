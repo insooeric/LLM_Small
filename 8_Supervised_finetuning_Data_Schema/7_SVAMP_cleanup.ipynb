{
 "cells": [
  {
   "cell_type": "markdown",
   "id": "32d5e13b",
   "metadata": {},
   "source": [
    "# Cleanup SVAMP"
   ]
  },
  {
   "cell_type": "code",
   "execution_count": null,
   "id": "47ca1241",
   "metadata": {},
   "outputs": [],
   "source": [
    "from pathlib import Path\n",
    "import json\n",
    "from typing import List, Dict, Iterable, Tuple, Any\n",
    "\n",
    "TRAIN_JSON = Path(\"./SVAMP/SVAMP_train_origin.json\")\n",
    "VALID_JSON = Path(\"./SVAMP/SVAMP_valid_origin.json\")\n",
    "\n",
    "OUT_TRAIN_JSONL = Path(\"./train_jsonl/svamp_train.jsonl\")\n",
    "OUT_VALID_JSONL = Path(\"./valid_jsonl/svamp_valid.jsonl\")\n",
    "\n",
    "JOINER = \"\\n\\n\""
   ]
  },
  {
   "cell_type": "code",
   "execution_count": null,
   "id": "10b068ae",
   "metadata": {},
   "outputs": [],
   "source": [
    "# loads\n",
    "# - a JSON array of objects\n",
    "# - fallback: line-delimited JSON\n",
    "def load_json_records(path: Path) -> List[Dict[str, Any]]:\n",
    "    text = path.read_text(encoding=\"utf-8\").strip()\n",
    "    if not text:\n",
    "        return []\n",
    "    # try array\n",
    "    if text[0] == \"[\":\n",
    "        data = json.loads(text)\n",
    "        if not isinstance(data, list):\n",
    "            raise ValueError(f\"{path} is not a JSON array.\")\n",
    "        return data\n",
    "    # fallback\n",
    "    recs = []\n",
    "    for ln in text.splitlines():\n",
    "        ln = ln.strip()\n",
    "        if not ln:\n",
    "            continue\n",
    "        recs.append(json.loads(ln))\n",
    "    return recs\n",
    "\n",
    "# convert values to clean string\n",
    "# numbers like 1.0 -> 1\n",
    "# strip outer whitespace\n",
    "def to_clean_str(x: Any) -> str:\n",
    "    if isinstance(x, (int,)):\n",
    "        return str(x)\n",
    "    if isinstance(x, float):\n",
    "        if abs(x - round(x)) < 1e-9:\n",
    "            return str(int(round(x)))\n",
    "        return str(x)\n",
    "    s = str(x)\n",
    "    return s.strip()\n",
    "\n",
    "# build (user, assistant) from a raw SVAMP record\n",
    "# user = Body + joiner + Question\n",
    "# assistant = Equation + \" is \" + Answer\n",
    "def rec_to_pair(rec: Dict[str, Any], joiner: str = JOINER) -> Tuple[str, str]:\n",
    "    body = to_clean_str(rec.get(\"Body\", \"\"))\n",
    "    question = to_clean_str(rec.get(\"Question\", \"\"))\n",
    "    equation = to_clean_str(rec.get(\"Equation\", \"\"))\n",
    "    answer = to_clean_str(rec.get(\"Answer\", \"\"))\n",
    "\n",
    "    user = f\"{body}{joiner}{question}\".strip()\n",
    "    assistant = f\"{equation} is {answer}\".strip()\n",
    "    return user, assistant\n",
    "\n",
    "# Write {\"user\":..., \"assistant\":...} per line\n",
    "# returns number of lines written\n",
    "def write_jsonl(pairs: Iterable[Tuple[str, str]], out_path: Path) -> int:\n",
    "    n = 0\n",
    "    with out_path.open(\"w\", encoding=\"utf-8\") as f:\n",
    "        for user, assistant in pairs:\n",
    "            obj = {\"user\": user, \"assistant\": assistant}\n",
    "            f.write(json.dumps(obj, ensure_ascii=False) + \"\\n\")\n",
    "            n += 1\n",
    "    return n"
   ]
  },
  {
   "cell_type": "code",
   "execution_count": null,
   "id": "1ba8e1ea",
   "metadata": {},
   "outputs": [
    {
     "name": "stdout",
     "output_type": "stream",
     "text": [
      "Loaded: train=700  valid=300\n",
      "Wrote:  train_jsonl\\svamp_train.jsonl (700 lines)\n",
      "Wrote:  train_jsonl\\svamp_valid.jsonl (300 lines)\n"
     ]
    }
   ],
   "source": [
    "train_raw = load_json_records(TRAIN_JSON)\n",
    "valid_raw = load_json_records(VALID_JSON)\n",
    "\n",
    "print(f\"Loaded: train={len(train_raw):,}  valid={len(valid_raw):,}\")\n",
    "\n",
    "# transform\n",
    "train_pairs = [rec_to_pair(r) for r in train_raw]\n",
    "valid_pairs = [rec_to_pair(r) for r in valid_raw]\n",
    "\n",
    "n_train = write_jsonl(train_pairs, OUT_TRAIN_JSONL)\n",
    "n_valid = write_jsonl(valid_pairs, OUT_VALID_JSONL)\n",
    "\n",
    "print(f\"Wrote:  {OUT_TRAIN_JSONL} ({n_train:,} lines)\")\n",
    "print(f\"Wrote:  {OUT_VALID_JSONL} ({n_valid:,} lines)\")"
   ]
  },
  {
   "cell_type": "code",
   "execution_count": 9,
   "id": "f43e6ae8",
   "metadata": {},
   "outputs": [
    {
     "name": "stdout",
     "output_type": "stream",
     "text": [
      "\n",
      "--- svamp_train.jsonl (first 3) ---\n",
      "{\"user\": \"There are 87 oranges and 290 bananas in Philip's collection. If the bananas are organized into 2 groups and oranges are organized into 93 groups\\n\\nHow big is each group of bananas?\", \"assistant\": \"( 290.0 / 2.0 ) is 145\"}\n",
      "{\"user\": \"Marco and his dad went strawberry picking. Marco's dad's strawberries weighed 11 pounds. If together their strawberries weighed 30 pounds.\\n\\nHow much did Marco's strawberries weigh?\", \"assistant\": \"( 30.0 - 11.0 ) is 19\"}\n",
      "{\"user\": \"Edward spent $ 6 to buy 2 books each book costing him the same amount of money. Now he has $ 12.\\n\\nHow much did each book cost?\", \"assistant\": \"( 6.0 / 2.0 ) is 3\"}\n",
      "\n",
      "--- svamp_valid.jsonl (first 3) ---\n",
      "{\"user\": \"Mary is baking a cake. The recipe calls for 6 cups of flour 8 cups of sugar and 7 cups of salt. She already put in 5 cups of flour.\\n\\nHow many more cups of sugar than cups of salt does she need to add now?\", \"assistant\": \"( 8.0 - 7.0 ) is 1\"}\n",
      "{\"user\": \"Paul got a box of some crayons for his birthday. During the school year he gave 52 crayons to his friends while he lost 535 crayons. If he only had 492 crayons left\\n\\nHow many crayons had been lost or given away?\", \"assistant\": \"( 52.0 + 535.0 ) is 587\"}\n",
      "{\"user\": \"Robin's hair was 16 inches long. He cut off 11 inches. Then it again grew by 12 inches.\\n\\nHow long is his hair now?\", \"assistant\": \"( ( 16.0 - 11.0 ) + 12.0 ) is 17\"}\n"
     ]
    }
   ],
   "source": [
    "def peek_jsonl(path: Path, k: int = 3):\n",
    "    print(f\"\\n--- {path.name} (first {k}) ---\")\n",
    "    for i, ln in enumerate(path.open(\"r\", encoding=\"utf-8\")):\n",
    "        if i >= k: break\n",
    "        print(ln.rstrip())\n",
    "\n",
    "peek_jsonl(OUT_TRAIN_JSONL, 3)\n",
    "peek_jsonl(OUT_VALID_JSONL, 3)"
   ]
  },
  {
   "cell_type": "code",
   "execution_count": 10,
   "id": "731a1b9f",
   "metadata": {},
   "outputs": [
    {
     "name": "stdout",
     "output_type": "stream",
     "text": [
      "svamp_train.jsonl: OK\n",
      "svamp_valid.jsonl: OK\n"
     ]
    }
   ],
   "source": [
    "def sanity_svamp_jsonl(path: Path):\n",
    "    bad = 0\n",
    "    for i, ln in enumerate(path.open(\"r\", encoding=\"utf-8\")):\n",
    "        try:\n",
    "            obj = json.loads(ln)\n",
    "        except Exception as e:\n",
    "            print(f\"[{i}] JSON error: {e} -> {ln[:200]}\")\n",
    "            bad += 1\n",
    "            continue\n",
    "        if \"user\" not in obj or \"assistant\" not in obj:\n",
    "            print(f\"[{i}] missing keys: {obj}\")\n",
    "            bad += 1\n",
    "        if not isinstance(obj.get(\"user\", \"\"), str) or not isinstance(obj.get(\"assistant\", \"\"), str):\n",
    "            print(f\"[{i}] non-string values: {obj}\")\n",
    "            bad += 1\n",
    "    print(f\"{path.name}: {('OK' if bad==0 else f'{bad} issues found')}\")\n",
    "\n",
    "sanity_svamp_jsonl(OUT_TRAIN_JSONL)\n",
    "sanity_svamp_jsonl(OUT_VALID_JSONL)"
   ]
  }
 ],
 "metadata": {
  "kernelspec": {
   "display_name": "LLM-dummy-documentation (3.12.0)",
   "language": "python",
   "name": "python3"
  },
  "language_info": {
   "codemirror_mode": {
    "name": "ipython",
    "version": 3
   },
   "file_extension": ".py",
   "mimetype": "text/x-python",
   "name": "python",
   "nbconvert_exporter": "python",
   "pygments_lexer": "ipython3",
   "version": "3.12.0"
  }
 },
 "nbformat": 4,
 "nbformat_minor": 5
}
