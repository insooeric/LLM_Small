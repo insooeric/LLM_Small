{
 "cells": [
  {
   "cell_type": "markdown",
   "id": "68512bfe",
   "metadata": {},
   "source": [
    "# Cleanup NuminaMath"
   ]
  },
  {
   "cell_type": "code",
   "execution_count": null,
   "id": "c49040a3",
   "metadata": {},
   "outputs": [],
   "source": [
    "from pathlib import Path\n",
    "import json\n",
    "from typing import Any, Dict, Iterable, Tuple, List\n",
    "\n",
    "from tqdm.auto import tqdm\n",
    "\n",
    "# use PyArrow streaming. else, fall back to pandas\n",
    "try:\n",
    "    import pyarrow.parquet as pq\n",
    "    import pyarrow as pa\n",
    "    HAVE_PA = True\n",
    "except Exception:\n",
    "    HAVE_PA = False\n",
    "\n",
    "try:\n",
    "    import pandas as pd\n",
    "    HAVE_PD = True\n",
    "except Exception:\n",
    "    HAVE_PD = False\n",
    "\n",
    "BASE = Path(\"NuminaMath\")\n",
    "TRAIN_GLOB = \"NuminaMath_train_*.parquet\"\n",
    "VALID_FILE = \"NuminaMath_valid.parquet\"\n",
    "\n",
    "OUT_TRAIN = Path(\"./train_jsonl/numinamath_train.jsonl\")\n",
    "OUT_VALID = Path(\"./valid_jsonl/numinamath_valid.jsonl\")\n",
    "\n",
    "BATCH_SIZE = 8192\n",
    "DO_DEDUP   = True"
   ]
  },
  {
   "cell_type": "code",
   "execution_count": null,
   "id": "4786c12b",
   "metadata": {},
   "outputs": [],
   "source": [
    "# coerce to trimmed string; print ints when floats are integral\n",
    "def to_clean_str(x: Any) -> str:\n",
    "    if isinstance(x, int):\n",
    "        return str(x)\n",
    "    if isinstance(x, float):\n",
    "        if abs(x - round(x)) < 1e-9:\n",
    "            return str(int(round(x)))\n",
    "        return str(x)\n",
    "    return str(x).strip()\n",
    "\n",
    "# STRICT: only accept rows having BOTH 'problem' and 'solution'\n",
    "# skip otherwise.\n",
    "def extract_pair_strict(obj: Dict[str, Any]) -> Tuple[str, str] | None:\n",
    "    if \"problem\" not in obj or \"solution\" not in obj:\n",
    "        return None\n",
    "    u = to_clean_str(obj[\"problem\"])\n",
    "    a = to_clean_str(obj[\"solution\"])\n",
    "    if not u or not a:\n",
    "        return None\n",
    "    return u, a\n",
    "\n",
    "\n",
    "# converts parquet rows -> normalized user/assistant JSONL with progress bars\n",
    "# STRICT: problem/solution only\n",
    "# returns counters dict\n",
    "def build_jsonl_from_parquets(in_paths: List[Path], out_path: Path) -> Dict[str, int]:\n",
    "    out_path.parent.mkdir(parents=True, exist_ok=True)\n",
    "\n",
    "    # for tqdm (since this is huge)\n",
    "    total_rows = None\n",
    "    if HAVE_PA:\n",
    "        try:\n",
    "            total_rows = sum(pq.ParquetFile(p).metadata.num_rows for p in in_paths)\n",
    "        except Exception:\n",
    "            total_rows = None\n",
    "\n",
    "    seen = set()\n",
    "    kept = dropped_missing = deduped = total_seen = 0\n",
    "\n",
    "    desc = f\"writing {out_path.name}\"\n",
    "    with out_path.open(\"w\", encoding=\"utf-8\") as f, tqdm(\n",
    "        total=total_rows, unit=\"rows\", desc=desc, leave=False\n",
    "    ) as pbar:\n",
    "\n",
    "        if HAVE_PA:\n",
    "            for p in in_paths:\n",
    "                pf = pq.ParquetFile(p)\n",
    "                for batch in pf.iter_batches(batch_size=BATCH_SIZE):\n",
    "                    rows = pa.Table.from_batches([batch]).to_pylist()\n",
    "                    for rec in rows:\n",
    "                        total_seen += 1\n",
    "                        pair = extract_pair_strict(rec)\n",
    "                        if pair is None:\n",
    "                            dropped_missing += 1\n",
    "                            continue\n",
    "                        user, assistant = pair\n",
    "\n",
    "                        if DO_DEDUP:\n",
    "                            h = (user, assistant)\n",
    "                            if h in seen:\n",
    "                                deduped += 1\n",
    "                                continue\n",
    "                            seen.add(h)\n",
    "\n",
    "                        f.write(json.dumps({\"user\": user, \"assistant\": assistant}, ensure_ascii=False) + \"\\n\")\n",
    "                        kept += 1\n",
    "\n",
    "                    pbar.update(len(rows))\n",
    "                    pbar.set_postfix(written=kept, missing=dropped_missing, deduped=deduped)\n",
    "\n",
    "        elif HAVE_PD:\n",
    "            for p in in_paths:\n",
    "                df = pd.read_parquet(p)\n",
    "                recs = df.to_dict(orient=\"records\")\n",
    "                for rec in recs:\n",
    "                    total_seen += 1\n",
    "                    pair = extract_pair_strict(rec)\n",
    "                    if pair is None:\n",
    "                        dropped_missing += 1\n",
    "                        continue\n",
    "                    user, assistant = pair\n",
    "\n",
    "                    if DO_DEDUP:\n",
    "                        h = (user, assistant)\n",
    "                        if h in seen:\n",
    "                            deduped += 1\n",
    "                            continue\n",
    "                        seen.add(h)\n",
    "\n",
    "                    f.write(json.dumps({\"user\": user, \"assistant\": assistant}, ensure_ascii=False) + \"\\n\")\n",
    "                    kept += 1\n",
    "\n",
    "                pbar.update(len(recs))\n",
    "                pbar.set_postfix(written=kept, missing=dropped_missing, deduped=deduped)\n",
    "        else:\n",
    "            raise RuntimeError(\"Neither pyarrow nor pandas is available to read parquet.\")\n",
    "\n",
    "    return {\n",
    "        \"total_rows_in_files\": int(total_rows) if total_rows is not None else total_seen,\n",
    "        \"seen_rows\": total_seen,\n",
    "        \"written\": kept,\n",
    "        \"dropped_missing_or_empty\": dropped_missing,\n",
    "        \"deduped\": deduped,\n",
    "    }"
   ]
  },
  {
   "cell_type": "code",
   "execution_count": null,
   "id": "40b6174d",
   "metadata": {},
   "outputs": [
    {
     "name": "stdout",
     "output_type": "stream",
     "text": [
      "Train parts:\n",
      " - NuminaMath\\NuminaMath_train_1.parquet\n",
      " - NuminaMath\\NuminaMath_train_2.parquet\n",
      " - NuminaMath\\NuminaMath_train_3.parquet\n",
      " - NuminaMath\\NuminaMath_train_4.parquet\n",
      " - NuminaMath\\NuminaMath_train_5.parquet\n",
      "\n",
      "Valid parts:\n",
      " - NuminaMath\\NuminaMath_valid.parquet\n"
     ]
    },
    {
     "data": {
      "application/vnd.jupyter.widget-view+json": {
       "model_id": "75feb62fdc414a6a9fdc787b01dded16",
       "version_major": 2,
       "version_minor": 0
      },
      "text/plain": [
       "writing numinamath_train.jsonl:   0%|          | 0/859494 [00:00<?, ?rows/s]"
      ]
     },
     "metadata": {},
     "output_type": "display_data"
    },
    {
     "data": {
      "application/vnd.jupyter.widget-view+json": {
       "model_id": "c28d2098f4fc45c68b6e21108b39f177",
       "version_major": 2,
       "version_minor": 0
      },
      "text/plain": [
       "writing numinamath_valid.jsonl:   0%|          | 0/100 [00:00<?, ?rows/s]"
      ]
     },
     "metadata": {},
     "output_type": "display_data"
    },
    {
     "name": "stdout",
     "output_type": "stream",
     "text": [
      "\n",
      "--- Done ---\n",
      "Train: {'total_rows_in_files': 859494, 'seen_rows': 859494, 'written': 852742, 'dropped_missing_or_empty': 0, 'deduped': 6752}\n",
      "Valid: {'total_rows_in_files': 100, 'seen_rows': 100, 'written': 100, 'dropped_missing_or_empty': 0, 'deduped': 0}\n"
     ]
    }
   ],
   "source": [
    "train_parts = sorted(BASE.glob(TRAIN_GLOB), key=lambda p: p.name)\n",
    "valid_parts = [BASE / VALID_FILE]\n",
    "\n",
    "print(\"Train parts:\")\n",
    "for p in train_parts: print(\" -\", p)\n",
    "print(\"\\nValid parts:\")\n",
    "for p in valid_parts: print(\" -\", p)\n",
    "\n",
    "# convert\n",
    "train_stats = build_jsonl_from_parquets(train_parts, OUT_TRAIN)\n",
    "valid_stats = build_jsonl_from_parquets(valid_parts, OUT_VALID)\n",
    "\n",
    "print(\"\\n--- Done ---\")\n",
    "print(\"Train:\", train_stats)\n",
    "print(\"Valid:\", valid_stats)"
   ]
  },
  {
   "cell_type": "code",
   "execution_count": 4,
   "id": "fb01f392",
   "metadata": {},
   "outputs": [
    {
     "name": "stdout",
     "output_type": "stream",
     "text": [
      "\n",
      "--- numinamath_train.jsonl (first 3) ---\n",
      "{\"user\": \"Consider the terms of an arithmetic sequence: $-\\\\frac{1}{3}, y+2, 4y, \\\\ldots$. Solve for $y$.\", \"assistant\": \"For an arithmetic sequence, the difference between consecutive terms must be equal. Therefore, we can set up the following equations based on the sequence given:\\n\\\\[ (y + 2) - \\\\left(-\\\\frac{1}{3}\\\\right) = 4y - (y+2) \\\\]\\n\\nSimplify and solve these equations:\\n\\\\[ y + 2 + \\\\frac{1}{3} = 4y - y - 2 \\\\]\\n\\\\[ y + \\\\frac{7}{3} = 3y - 2 \\\\]\\n\\\\[ \\\\frac{7}{3} + 2 = 3y - y \\\\]\\n\\\\[ \\\\frac{13}{3} = 2y \\\\]\\n\\\\[ y = \\\\frac{13}{6} \\\\]\\n\\nThus, the value of $y$ that satisfies the given arithmetic sequence is $\\\\boxed{\\\\frac{13}{6}}$.\"}\n",
      "{\"user\": \"Suppose that $g(x) = 5x - 3$. What is $g^{-1}(g^{-1}(14))$?\", \"assistant\": \"First, we need to find the inverse function $g^{-1}(x)$. Given $g(x) = 5x - 3$, solve for $x$:\\n\\\\[ y = 5x - 3 \\\\]\\n\\\\[ y + 3 = 5x \\\\]\\n\\\\[ x = \\\\frac{y + 3}{5} \\\\]\\nThus, $g^{-1}(x) = \\\\frac{x + 3}{5}$.\\n\\nNow, apply $g^{-1}$ twice to the given value $14$:\\n\\\\[ g^{-1}(14) = \\\\frac{14 + 3}{5} = \\\\frac{17}{5} \\\\]\\n\\\\[ g^{-1}\\\\left(\\\\frac{17}{5}\\\\right) = \\\\frac{\\\\frac{17}{5} + 3}{5} = \\\\frac{\\\\frac{17}{5} + \\\\frac{15}{5}}{5} = \\\\frac{32}{5 \\\\times 5} = \\\\frac{32}{25} \\\\]\\n\\nThus, $g^{-1}(g^{-1}(14)) = \\\\boxed{\\\\frac{32}{25}}$.\"}\n",
      "{\"user\": \"A farmer has a rectangular field with dimensions $3m+8$ and $m-3$ where $m$ is a positive integer. If the field has an area of 76 square meters, find the value of $m$.\", \"assistant\": \"Using the given dimensions, we set up the area equation:\\n\\\\[\\n(3m+8)(m-3) = 76.\\n\\\\]\\nExpanding this, we get:\\n\\\\[\\n3m^2 - 9m + 8m - 24 = 76,\\n\\\\]\\n\\\\[\\n3m^2 - m - 24 = 76,\\n\\\\]\\n\\\\[\\n3m^2 - m - 100 = 0.\\n\\\\]\\nFactoring the quadratic, we find:\\n\\\\[\\n(3m+25)(m-4) = 0.\\n\\\\]\\nThis gives two potential solutions for $m$: $m=-\\\\frac{25}{3}$ and $m=4$. Since $m$ must be a positive integer, the only valid solution is $m = \\\\boxed{4}$.\"}\n",
      "\n",
      "--- numinamath_valid.jsonl (first 3) ---\n",
      "{\"user\": \"Let  $x, y$  be real numbers such that  $1\\\\le x^2-xy+y^2\\\\le2$ . Show that:\\na)  $\\\\dfrac{2}{9}\\\\le x^4+y^4\\\\le 8$ ;\\nb)  $x^{2n}+y^{2n}\\\\ge\\\\dfrac{2}{3^n}$ , for all  $n\\\\ge3$ .\\n\\n*Laurențiu Panaitopol* and *Ioan Tomescu*\", \"assistant\": \"### Part (a)\\nWe need to show that:\\n\\\\[\\n\\\\frac{2}{9} \\\\le x^4 + y^4 \\\\le 8\\n\\\\]\\n\\n1. **Lower Bound:**\\n   Given \\\\(1 \\\\le x^2 - xy + y^2 \\\\le 2\\\\), we start by using the inequality:\\n   \\\\[\\n   x^4 + y^4 \\\\ge \\\\frac{2}{9}(x^2 - xy + y^2)\\n   \\\\]\\n   To prove this, we use the fact that:\\n   \\\\[\\n   x^4 + y^4 \\\\ge \\\\frac{2}{9}(x^2 - xy + y^2)\\n   \\\\]\\n   This can be derived from the inequality:\\n   \\\\[\\n   4(x+y)^2(x^2 - xy + y^2) + 3(x-y)^2(x+y)^2 \\\\ge 0\\n   \\\\]\\n   which is always true since both terms on the left-hand side are non-negative. Equality holds when \\\\(x = -y = \\\\pm \\\\frac{1}{\\\\sqrt{3}}\\\\).\\n\\n   Given \\\\(1 \\\\le x^2 - xy + y^2 \\\\le 2\\\\), we have:\\n   \\\\[\\n   x^4 + y^4 \\\\ge \\\\frac{2}{9} \\\\cdot 1 = \\\\frac{2}{9}\\n   \\\\]\\n\\n2. **Upper Bound:**\\n   We need to show:\\n   \\\\[\\n   x^4 + y^4 \\\\le 2(x^2 - xy + y^2)^2\\n   \\\\]\\n   This follows from:\\n   \\\\[\\n   x^4 + y^4 \\\\le 2(x^2 - xy + y^2)^2\\n   \\\\]\\n   which simplifies to:\\n   \\\\[\\n   (x-y)^4 \\\\ge 0\\n   \\\\]\\n   which is always true. Equality holds when \\\\(x = y = \\\\sqrt{2}\\\\).\\n\\n   Given \\\\(1 \\\\le x^2 - xy + y^2 \\\\le 2\\\\), we have:\\n   \\\\[\\n   x^4 + y^4 \\\\le 2 \\\\cdot 2^2 = 8\\n   \\\\]\\n\\nThus, we have shown:\\n\\\\[\\n\\\\frac{2}{9} \\\\le x^4 + y^4 \\\\le 8\\n\\\\]\\n\\n### Part (b)\\nWe need to show that for all \\\\(n \\\\ge 3\\\\):\\n\\\\[\\nx^{2n} + y^{2n} \\\\ge \\\\frac{2}{3^n}\\n\\\\]\\n\\n1. **Using Power Mean Inequality:**\\n   From the Power Mean Inequality, we have:\\n   \\\\[\\n   \\\\left( \\\\frac{x^{2n} + y^{2n}}{2} \\\\right)^{\\\\frac{1}{2n}} \\\\ge \\\\left( \\\\frac{x^4 + y^4}{2} \\\\right)^{\\\\frac{1}{4}}\\n   \\\\]\\n   Raising both sides to the power \\\\(2n\\\\), we get:\\n   \\\\[\\n   \\\\frac{x^{2n} + y^{2n}}{2} \\\\ge \\\\left( \\\\frac{x^4 + y^4}{2} \\\\right)^{\\\\frac{2n}{4}}\\n   \\\\]\\n   Simplifying, we have:\\n   \\\\[\\n   x^{2n} + y^{2n} \\\\ge 2 \\\\left( \\\\frac{x^4 + y^4}{2} \\\\right)^{\\\\frac{n}{2}}\\n   \\\\]\\n\\n2. **Using the Lower Bound from Part (a):**\\n   From part (a), we know:\\n   \\\\[\\n   x^4 + y^4 \\\\ge \\\\frac{2}{9}\\n   \\\\]\\n   Substituting this into the inequality, we get:\\n   \\\\[\\n   x^{2n} + y^{2n} \\\\ge 2 \\\\left( \\\\frac{\\\\frac{2}{9}}{2} \\\\right)^{\\\\frac{n}{2}} = 2 \\\\left( \\\\frac{1}{9} \\\\right)^{\\\\frac{n}{2}} = 2 \\\\cdot \\\\frac{1}{3^n} = \\\\frac{2}{3^n}\\n   \\\\]\\n\\nThus, we have shown:\\n\\\\[\\nx^{2n} + y^{2n} \\\\ge \\\\frac{2}{3^n}\\n\\\\]\\n\\nThe final answer is \\\\( \\\\boxed{ \\\\frac{2}{9} \\\\le x^4 + y^4 \\\\le 8 } \\\\) and \\\\(x^{2n} + y^{2n} \\\\ge \\\\frac{2}{3^n}\\\\)\"}\n",
      "{\"user\": \"Given the function $f(x)=|x+1|-|x-2|$.\\n$(1)$ Find the solution set of the inequality $f(x)\\\\geqslant 1$;\\n$(2)$ If the solution set of the inequality $f(x)\\\\geqslant x^{2}-x+m$ is non-empty, find the range of values for $m$.\", \"assistant\": \"Solution:\\n$(1)$ Since $f(x)=|x+1|-|x-2|=\\\\begin{cases} -3, & x < -1 \\\\\\\\ 2x-1, & -1\\\\leqslant x\\\\leqslant 2 \\\\\\\\ 3, & x > 2\\\\end{cases}$, and $f(x)\\\\geqslant 1$,\\nTherefore, when $-1\\\\leqslant x\\\\leqslant 2$, we have $2x-1\\\\geqslant 1$, solving this gives $1\\\\leqslant x\\\\leqslant 2$;\\nWhen $x > 2$, $3\\\\geqslant 1$ always holds, thus $x > 2$;\\nOverall, the solution set of the inequality $f(x)\\\\geqslant 1$ is $\\\\boxed{\\\\{x|x\\\\geqslant 1\\\\}}$.\\n\\n$(2)$ The original expression is equivalent to the existence of $x\\\\in\\\\mathbb{R}$ such that $f(x)-x^{2}+x\\\\geqslant m$ holds,\\nwhich means $m\\\\leqslant \\\\max[f(x)-x^{2}+x]$, let $g(x)=f(x)-x^{2}+x$.\\nFrom $(1)$, we know $g(x)=\\\\begin{cases} -x^{2}+x-3, & x\\\\leqslant -1 \\\\\\\\ -x^{2}+3x-1, & -1 < x < 2 \\\\\\\\ -x^{2}+x+3, & x\\\\geqslant 2\\\\end{cases}$,\\nWhen $x\\\\leqslant -1$, $g(x)=-x^{2}+x-3$, it opens downwards, and the axis of symmetry is $x= \\\\dfrac {1}{2} > -1$,\\nTherefore, $g(x)\\\\leqslant g(-1)=-1-1-3=-5$;\\nWhen $-1 < x < 2$, $g(x)=-x^{2}+3x-1$, it opens downwards, and the axis of symmetry is $x= \\\\dfrac {3}{2}\\\\in(-1,2)$,\\nTherefore, $g(x)\\\\leqslant g\\\\left( \\\\dfrac {3}{2}\\\\right)=- \\\\dfrac {9}{4}+ \\\\dfrac {9}{2}-1= \\\\dfrac {5}{4}$;\\nWhen $x\\\\geqslant 2$, $g(x)=-x^{2}+x+3$, it opens downwards, and the axis of symmetry is $x= \\\\dfrac {1}{2} < 2$,\\nTherefore, $g(x)\\\\leqslant g(2)=-4+2+3=1$;\\nOverall, $\\\\max g(x)= \\\\dfrac {5}{4}$,\\nTherefore, the range of values for $m$ is $\\\\boxed{(-\\\\infty, \\\\dfrac {5}{4}]}$.\"}\n",
      "{\"user\": \"two cars start from the opposite places of a main road , 150 km apart . first car runs for 25 km and takes a right turn and then runs 15 km . it then turns left and then runs for another 25 km and then takes the direction back to reach the main road . in the mean time , due to minor break down the other car has run only 35 km along the main road . what would be the distance between two cars at this point ?\", \"assistant\": \"Let's break down the movements of the first car:\\n\\n1. The first car runs 25 km along the main road.\\n2. It takes a right turn and runs 15 km.\\n3. It takes a left turn and runs another 25 km.\\n4. It then takes the direction back to reach the main road.\\n\\nWhen the first car takes a right turn and then a left turn, it forms a right-angled triangle with the main road. The distance it travels away from the main road (the 15 km) will not affect the distance between the two cars along the main road. So, we can ignore the 15 km for now.\\n\\nThe first car travels a total of 25 km + 25 km = 50 km along directions that are parallel to the main road before heading back towards it.\\n\\nThe second car, due to a breakdown, has only managed to travel 35 km along the main road.\\n\\nNow, let's calculate the distance between the two cars along the main road:\\n\\nThe initial distance between the two cars was 150 km. The first car has covered 50 km of this distance, and the second car has covered 35 km.\\n\\nDistance remaining between the two cars along the main road = Initial distance - (Distance covered by first car + Distance covered by second car)\\nDistance remaining = 150 km - (50 km + 35 km)\\nDistance remaining = 150 km - 85 km\\nDistance remaining = 65 km\\n\\nTherefore, the distance between the two cars along the main road is $\\\\boxed{65}$  km.\"}\n"
     ]
    }
   ],
   "source": [
    "def peek_jsonl(path: Path, k: int = 3):\n",
    "    print(f\"\\n--- {path.name} (first {k}) ---\")\n",
    "    with path.open(\"r\", encoding=\"utf-8\") as f:\n",
    "        for i, ln in enumerate(f):\n",
    "            if i >= k: break\n",
    "            print(ln.rstrip())\n",
    "\n",
    "peek_jsonl(OUT_TRAIN, 3)\n",
    "peek_jsonl(OUT_VALID, 3)"
   ]
  },
  {
   "cell_type": "code",
   "execution_count": null,
   "id": "47aefac2",
   "metadata": {},
   "outputs": [
    {
     "data": {
      "application/vnd.jupyter.widget-view+json": {
       "model_id": "41e14b5759714cb3972b797a430960c8",
       "version_major": 2,
       "version_minor": 0
      },
      "text/plain": [
       "scan numinamath_train.jsonl: 0lines [00:00, ?lines/s]"
      ]
     },
     "metadata": {},
     "output_type": "display_data"
    },
    {
     "name": "stdout",
     "output_type": "stream",
     "text": [
      "numinamath_train.jsonl: scanned 852742 lines | bad_json=0 nonstring=0 | very-short user=0 assistant=0\n"
     ]
    },
    {
     "data": {
      "application/vnd.jupyter.widget-view+json": {
       "model_id": "b25a3872427a438fbf2e97d846fd40ac",
       "version_major": 2,
       "version_minor": 0
      },
      "text/plain": [
       "scan numinamath_valid.jsonl: 0lines [00:00, ?lines/s]"
      ]
     },
     "metadata": {},
     "output_type": "display_data"
    },
    {
     "name": "stdout",
     "output_type": "stream",
     "text": [
      "numinamath_valid.jsonl: scanned 100 lines | bad_json=0 nonstring=0 | very-short user=0 assistant=0\n"
     ]
    }
   ],
   "source": [
    "from tqdm.auto import tqdm\n",
    "import json\n",
    "from pathlib import Path\n",
    "\n",
    "def sanity_check_jsonl(path: Path, max_lines: int | None = None):\n",
    "    n = bad_json = nonstring = short_user = short_asst = 0\n",
    "    with path.open(\"r\", encoding=\"utf-8\") as f:\n",
    "        for i, ln in enumerate(tqdm(f, unit=\"lines\", desc=f\"scan {path.name}\")):\n",
    "            if (max_lines is not None) and (i >= max_lines): break\n",
    "            try:\n",
    "                obj = json.loads(ln)\n",
    "            except Exception:\n",
    "                bad_json += 1\n",
    "                continue\n",
    "            u, a = obj.get(\"user\",\"\"), obj.get(\"assistant\",\"\")\n",
    "            if not isinstance(u, str) or not isinstance(a, str):\n",
    "                nonstring += 1\n",
    "                continue\n",
    "            if len(u) < 5: short_user += 1\n",
    "            if len(a) < 3: short_asst += 1\n",
    "            n += 1\n",
    "    print(f\"{path.name}: scanned {n} lines | bad_json={bad_json} nonstring={nonstring} \"\n",
    "          f\"| very-short user={short_user} assistant={short_asst}\")\n",
    "\n",
    "# sanity check\n",
    "sanity_check_jsonl(OUT_TRAIN, max_lines=None)\n",
    "sanity_check_jsonl(OUT_VALID, max_lines=None)\n"
   ]
  }
 ],
 "metadata": {
  "kernelspec": {
   "display_name": "LLM-dummy-documentation (3.12.0)",
   "language": "python",
   "name": "python3"
  },
  "language_info": {
   "codemirror_mode": {
    "name": "ipython",
    "version": 3
   },
   "file_extension": ".py",
   "mimetype": "text/x-python",
   "name": "python",
   "nbconvert_exporter": "python",
   "pygments_lexer": "ipython3",
   "version": "3.12.0"
  }
 },
 "nbformat": 4,
 "nbformat_minor": 5
}
