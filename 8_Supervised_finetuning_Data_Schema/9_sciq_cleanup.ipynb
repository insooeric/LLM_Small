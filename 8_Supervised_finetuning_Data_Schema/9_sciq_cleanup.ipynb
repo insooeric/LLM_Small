{
 "cells": [
  {
   "cell_type": "markdown",
   "id": "77c7cff5",
   "metadata": {},
   "source": [
    "# Cleanup SCIQ"
   ]
  },
  {
   "cell_type": "code",
   "execution_count": null,
   "id": "6413a7df",
   "metadata": {},
   "outputs": [],
   "source": [
    "from pathlib import Path\n",
    "import json\n",
    "from typing import Any, Dict, Iterable, Tuple, List\n",
    "\n",
    "from tqdm.auto import tqdm\n",
    "\n",
    "try:\n",
    "    import pyarrow.parquet as pq\n",
    "    import pyarrow as pa\n",
    "    HAVE_PA = True\n",
    "except Exception:\n",
    "    HAVE_PA = False\n",
    "\n",
    "try:\n",
    "    import pandas as pd\n",
    "    HAVE_PD = True\n",
    "except Exception:\n",
    "    HAVE_PD = False\n",
    "\n",
    "BASE = Path(\"sciq\")\n",
    "TRAIN_FILE = BASE / \"sciq_train_origin.parquet\"\n",
    "VALID_FILE = BASE / \"sciq_valid_origin.parquet\"\n",
    "\n",
    "OUT_TRAIN = Path(\"./train_jsonl/sciq_train.jsonl\")\n",
    "OUT_VALID = Path(\"./valid_jsonl/sciq_valid.jsonl\")\n",
    "\n",
    "BATCH_SIZE = 8192\n",
    "DO_DEDUP = True\n",
    "JOINER = \"\\n\\n\"\n"
   ]
  },
  {
   "cell_type": "code",
   "execution_count": null,
   "id": "69c8f868",
   "metadata": {},
   "outputs": [],
   "source": [
    "def to_clean_str(x: Any) -> str:\n",
    "    if isinstance(x, int):\n",
    "        return str(x)\n",
    "    if isinstance(x, float):\n",
    "        if abs(x - round(x)) < 1e-9:\n",
    "            return str(int(round(x)))\n",
    "        return str(x)\n",
    "    return str(x).strip()\n",
    "\n",
    "\n",
    "def extract_pair_strict(obj: Dict[str, Any]) -> Tuple[str, str] | None:\n",
    "    if not all(k in obj for k in (\"question\", \"correct_answer\", \"support\")):\n",
    "        return None\n",
    "    q = to_clean_str(obj[\"question\"])\n",
    "    a = to_clean_str(obj[\"correct_answer\"])\n",
    "    s = to_clean_str(obj[\"support\"])\n",
    "    if not q or not a or not s:\n",
    "        return None\n",
    "    user = q\n",
    "    assistant = f\"The answer is {a}.{JOINER}{s}\"\n",
    "    return user, assistant\n",
    "\n",
    "\n",
    "def build_jsonl_from_parquet(in_path: Path, out_path: Path) -> Dict[str, int]:\n",
    "    out_path.parent.mkdir(parents=True, exist_ok=True)\n",
    "\n",
    "    total_rows = None\n",
    "    if HAVE_PA:\n",
    "        try:\n",
    "            total_rows = pq.ParquetFile(in_path).metadata.num_rows\n",
    "        except Exception:\n",
    "            total_rows = None\n",
    "\n",
    "    seen = set()\n",
    "    kept = dropped = deduped = total_seen = 0\n",
    "\n",
    "    desc = f\"writing {out_path.name}\"\n",
    "    with out_path.open(\"w\", encoding=\"utf-8\") as f, tqdm(\n",
    "        total=total_rows, unit=\"rows\", desc=desc, leave=False\n",
    "    ) as pbar:\n",
    "\n",
    "        if HAVE_PA:\n",
    "            pf = pq.ParquetFile(in_path)\n",
    "            for batch in pf.iter_batches(batch_size=BATCH_SIZE):\n",
    "                rows = pa.Table.from_batches([batch]).to_pylist()\n",
    "                for rec in rows:\n",
    "                    total_seen += 1\n",
    "                    pair = extract_pair_strict(rec)\n",
    "                    if pair is None:\n",
    "                        dropped += 1\n",
    "                        continue\n",
    "                    user, assistant = pair\n",
    "\n",
    "                    if DO_DEDUP:\n",
    "                        h = (user, assistant)\n",
    "                        if h in seen:\n",
    "                            deduped += 1\n",
    "                            continue\n",
    "                        seen.add(h)\n",
    "\n",
    "                    f.write(json.dumps({\"user\": user, \"assistant\": assistant}, ensure_ascii=False) + \"\\n\")\n",
    "                    kept += 1\n",
    "\n",
    "                pbar.update(len(rows))\n",
    "                pbar.set_postfix(written=kept, dropped=dropped, deduped=deduped)\n",
    "\n",
    "        elif HAVE_PD:\n",
    "            df = pd.read_parquet(in_path)\n",
    "            recs = df.to_dict(orient=\"records\")\n",
    "            for rec in tqdm(recs, unit=\"rows\", desc=desc, leave=False):\n",
    "                total_seen += 1\n",
    "                pair = extract_pair_strict(rec)\n",
    "                if pair is None:\n",
    "                    dropped += 1\n",
    "                    continue\n",
    "                user, assistant = pair\n",
    "\n",
    "                if DO_DEDUP:\n",
    "                    h = (user, assistant)\n",
    "                    if h in seen:\n",
    "                        deduped += 1\n",
    "                        continue\n",
    "                    seen.add(h)\n",
    "\n",
    "                f.write(json.dumps({\"user\": user, \"assistant\": assistant}, ensure_ascii=False) + \"\\n\")\n",
    "                kept += 1\n",
    "        else:\n",
    "            raise RuntimeError(\"Neither pyarrow nor pandas is available to read parquet.\")\n",
    "\n",
    "    return {\n",
    "        \"total_rows_in_file\": int(total_rows) if total_rows is not None else total_seen,\n",
    "        \"seen_rows\": total_seen,\n",
    "        \"written\": kept,\n",
    "        \"dropped_missing_or_empty\": dropped,\n",
    "        \"deduped\": deduped,\n",
    "    }"
   ]
  },
  {
   "cell_type": "code",
   "execution_count": 3,
   "id": "bcbd6397",
   "metadata": {},
   "outputs": [
    {
     "name": "stdout",
     "output_type": "stream",
     "text": [
      "Inputs:\n",
      " - sciq\\sciq_train_origin.parquet\n",
      " - sciq\\sciq_valid_origin.parquet\n"
     ]
    },
    {
     "data": {
      "application/vnd.jupyter.widget-view+json": {
       "model_id": "5292a1b7a9b54daa96787b0d0342abb5",
       "version_major": 2,
       "version_minor": 0
      },
      "text/plain": [
       "writing sciq_train.jsonl:   0%|          | 0/11679 [00:00<?, ?rows/s]"
      ]
     },
     "metadata": {},
     "output_type": "display_data"
    },
    {
     "data": {
      "application/vnd.jupyter.widget-view+json": {
       "model_id": "e96f75811dac4c12912c44ed20bc190e",
       "version_major": 2,
       "version_minor": 0
      },
      "text/plain": [
       "writing sciq_valid.jsonl:   0%|          | 0/1000 [00:00<?, ?rows/s]"
      ]
     },
     "metadata": {},
     "output_type": "display_data"
    },
    {
     "name": "stdout",
     "output_type": "stream",
     "text": [
      "\n",
      "--- Done ---\n",
      "Train: {'total_rows_in_file': 11679, 'seen_rows': 11679, 'written': 10481, 'dropped_missing_or_empty': 1198, 'deduped': 0}\n",
      "Valid: {'total_rows_in_file': 1000, 'seen_rows': 1000, 'written': 887, 'dropped_missing_or_empty': 113, 'deduped': 0}\n"
     ]
    }
   ],
   "source": [
    "print(\"Inputs:\")\n",
    "print(\" -\", TRAIN_FILE)\n",
    "print(\" -\", VALID_FILE)\n",
    "\n",
    "train_stats = build_jsonl_from_parquet(TRAIN_FILE, OUT_TRAIN)\n",
    "valid_stats = build_jsonl_from_parquet(VALID_FILE, OUT_VALID)\n",
    "\n",
    "print(\"\\n--- Done ---\")\n",
    "print(\"Train:\", train_stats)\n",
    "print(\"Valid:\", valid_stats)"
   ]
  },
  {
   "cell_type": "code",
   "execution_count": 4,
   "id": "0941e826",
   "metadata": {},
   "outputs": [
    {
     "name": "stdout",
     "output_type": "stream",
     "text": [
      "\n",
      "--- sciq_train.jsonl (first 3) ---\n",
      "{\"user\": \"What type of organism is commonly used in preparation of foods such as cheese and yogurt?\", \"assistant\": \"The answer is mesophilic organisms.\\n\\nMesophiles grow best in moderate temperature, typically between 25°C and 40°C (77°F and 104°F). Mesophiles are often found living in or on the bodies of humans or other animals. The optimal growth temperature of many pathogenic mesophiles is 37°C (98°F), the normal human body temperature. Mesophilic organisms have important uses in food preparation, including cheese, yogurt, beer and wine.\"}\n",
      "{\"user\": \"What phenomenon makes global winds blow northeast to southwest or the reverse in the northern hemisphere and northwest to southeast or the reverse in the southern hemisphere?\", \"assistant\": \"The answer is coriolis effect.\\n\\nWithout Coriolis Effect the global winds would blow north to south or south to north. But Coriolis makes them blow northeast to southwest or the reverse in the Northern Hemisphere. The winds blow northwest to southeast or the reverse in the southern hemisphere.\"}\n",
      "{\"user\": \"Changes from a less-ordered state to a more-ordered state (such as a liquid to a solid) are always what?\", \"assistant\": \"The answer is exothermic.\\n\\nSummary Changes of state are examples of phase changes, or phase transitions. All phase changes are accompanied by changes in the energy of a system. Changes from a more-ordered state to a less-ordered state (such as a liquid to a gas) areendothermic. Changes from a less-ordered state to a more-ordered state (such as a liquid to a solid) are always exothermic. The conversion of a solid to a liquid is called fusion (or melting). The energy required to melt 1 mol of a substance is its enthalpy of fusion (ΔHfus). The energy change required to vaporize 1 mol of a substance is the enthalpy of vaporization (ΔHvap). The direct conversion of a solid to a gas is sublimation. The amount of energy needed to sublime 1 mol of a substance is its enthalpy of sublimation (ΔHsub) and is the sum of the enthalpies of fusion and vaporization. Plots of the temperature of a substance versus heat added or versus heating time at a constant rate of heating are calledheating curves. Heating curves relate temperature changes to phase transitions. A superheated liquid, a liquid at a temperature and pressure at which it should be a gas, is not stable. A cooling curve is not exactly the reverse of the heating curve because many liquids do not freeze at the expected temperature. Instead, they form a supercooled liquid, a metastable liquid phase that exists below the normal melting point. Supercooled liquids usually crystallize on standing, or adding a seed crystal of the same or another substance can induce crystallization.\"}\n",
      "\n",
      "--- sciq_valid.jsonl (first 3) ---\n",
      "{\"user\": \"A frameshift mutation is a deletion or insertion of one or more of what that changes the reading frame of the base sequence?\", \"assistant\": \"The answer is nucleotides.\\n\\nA frameshift mutation is a deletion or insertion of one or more nucleotides that changes the reading frame of the base sequence. Deletions remove nucleotides, and insertions add nucleotides. Consider the following sequence of bases in RNA:.\"}\n",
      "{\"user\": \"What is an area of land called that is wet for all or part of the year?\", \"assistant\": \"The answer is wetland.\\n\\nA wetland is an area that is wet for all or part of the year. Wetlands are home to certain types of plants.\"}\n",
      "{\"user\": \"What are arteries, veins, and capillaries examples of?\", \"assistant\": \"The answer is blood vessels.\\n\\nBlood vessels include arteries, veins, and capillaries.\"}\n"
     ]
    }
   ],
   "source": [
    "def peek_jsonl(path: Path, k: int = 3):\n",
    "    print(f\"\\n--- {path.name} (first {k}) ---\")\n",
    "    with path.open(\"r\", encoding=\"utf-8\") as f:\n",
    "        for i, ln in enumerate(f):\n",
    "            if i >= k: break\n",
    "            print(ln.rstrip())\n",
    "\n",
    "peek_jsonl(OUT_TRAIN, 3)\n",
    "peek_jsonl(OUT_VALID, 3)"
   ]
  },
  {
   "cell_type": "code",
   "execution_count": null,
   "id": "bdf3b3a6",
   "metadata": {},
   "outputs": [
    {
     "data": {
      "application/vnd.jupyter.widget-view+json": {
       "model_id": "c35214dc832c43fdb15d070a0322592c",
       "version_major": 2,
       "version_minor": 0
      },
      "text/plain": [
       "scan sciq_train.jsonl: 0lines [00:00, ?lines/s]"
      ]
     },
     "metadata": {},
     "output_type": "display_data"
    },
    {
     "name": "stdout",
     "output_type": "stream",
     "text": [
      "sciq_train.jsonl: scanned 10481 | bad_json=0 nonstring=0 | short_user(<5)=0 short_asst(<3)=0\n"
     ]
    },
    {
     "data": {
      "application/vnd.jupyter.widget-view+json": {
       "model_id": "32f0cb7f23de43139514b13acdc0f21b",
       "version_major": 2,
       "version_minor": 0
      },
      "text/plain": [
       "scan sciq_valid.jsonl: 0lines [00:00, ?lines/s]"
      ]
     },
     "metadata": {},
     "output_type": "display_data"
    },
    {
     "name": "stdout",
     "output_type": "stream",
     "text": [
      "sciq_valid.jsonl: scanned 887 | bad_json=0 nonstring=0 | short_user(<5)=0 short_asst(<3)=0\n"
     ]
    }
   ],
   "source": [
    "def sanity_check_jsonl(path: Path, max_lines: int | None = None):\n",
    "    n = bad_json = nonstring = short_user = short_asst = 0\n",
    "    with path.open(\"r\", encoding=\"utf-8\") as f:\n",
    "        for i, ln in enumerate(tqdm(f, unit=\"lines\", desc=f\"scan {path.name}\", leave=False)):\n",
    "            if (max_lines is not None) and (i >= max_lines): break\n",
    "            try:\n",
    "                obj = json.loads(ln)\n",
    "            except Exception:\n",
    "                bad_json += 1; continue\n",
    "            u, a = obj.get(\"user\",\"\"), obj.get(\"assistant\",\"\")\n",
    "            if not isinstance(u, str) or not isinstance(a, str):\n",
    "                nonstring += 1; continue\n",
    "            if len(u) < 5: short_user += 1\n",
    "            if len(a) < 3: short_asst += 1\n",
    "            n += 1\n",
    "    print(f\"{path.name}: scanned {n} | bad_json={bad_json} nonstring={nonstring} \"\n",
    "          f\"| short_user(<5)={short_user} short_asst(<3)={short_asst}\")\n",
    "\n",
    "sanity_check_jsonl(OUT_TRAIN)\n",
    "sanity_check_jsonl(OUT_VALID)"
   ]
  }
 ],
 "metadata": {
  "kernelspec": {
   "display_name": "LLM-dummy-documentation (3.12.0)",
   "language": "python",
   "name": "python3"
  },
  "language_info": {
   "codemirror_mode": {
    "name": "ipython",
    "version": 3
   },
   "file_extension": ".py",
   "mimetype": "text/x-python",
   "name": "python",
   "nbconvert_exporter": "python",
   "pygments_lexer": "ipython3",
   "version": "3.12.0"
  }
 },
 "nbformat": 4,
 "nbformat_minor": 5
}
