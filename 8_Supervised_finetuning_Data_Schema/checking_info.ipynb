{
 "cells": [
  {
   "cell_type": "code",
   "execution_count": 1,
   "id": "cc38c59d",
   "metadata": {},
   "outputs": [],
   "source": [
    "from tokenizers import ByteLevelBPETokenizer\n",
    "BPE_VOCAB  = \"../bpe/bpe_model-vocab.json\"\n",
    "BPE_MERGES = \"../bpe/bpe_model-merges.txt\"\n",
    "INFO_DEFAULT = \"\""
   ]
  },
  {
   "cell_type": "code",
   "execution_count": 2,
   "id": "ca91e742",
   "metadata": {},
   "outputs": [],
   "source": [
    "tokenizer = ByteLevelBPETokenizer(BPE_VOCAB, BPE_MERGES, lowercase=False, add_prefix_space=True)"
   ]
  },
  {
   "cell_type": "code",
   "execution_count": null,
   "id": "ecd902b6",
   "metadata": {},
   "outputs": [],
   "source": [
    "from pathlib import Path\n",
    "import json, numpy as np\n",
    "\n",
    "def info_token_stats(jsonl_path: Path):\n",
    "    \"\"\"\n",
    "    Scan a single JSONL file and compute token stats for the `info` field.\n",
    "    Uses the current tokenizer (no caps). Returns (max_len, max_row_idx, max_text).\n",
    "    \"\"\"\n",
    "    max_len = -1\n",
    "    max_row = -1\n",
    "    max_text = \"\"\n",
    "    lengths = []\n",
    "    total_rows = 0\n",
    "    bad_rows = 0\n",
    "\n",
    "    with jsonl_path.open(\"r\", encoding=\"utf-8\") as f:\n",
    "        for i, ln in enumerate(f, 1):\n",
    "            if not ln.strip():\n",
    "                continue\n",
    "            total_rows += 1\n",
    "            try:\n",
    "                obj = json.loads(ln)\n",
    "            except json.JSONDecodeError:\n",
    "                bad_rows += 1\n",
    "                continue\n",
    "\n",
    "            info = obj.get(\"info\", INFO_DEFAULT)\n",
    "            if not isinstance(info, str):\n",
    "                info = \"\" if info is None else str(info)\n",
    "\n",
    "            ids = tokenizer.encode(info).ids\n",
    "            L = len(ids)\n",
    "            lengths.append(L)\n",
    "\n",
    "            if L > max_len:\n",
    "                max_len = L\n",
    "                max_row = i\n",
    "                max_text = info\n",
    "\n",
    "    if not lengths:\n",
    "        print(f\"No valid rows found. total_rows={total_rows}, bad_rows={bad_rows}\")\n",
    "        return 0, -1, \"\"\n",
    "\n",
    "    arr = np.array(lengths, dtype=np.int32)\n",
    "    print(\n",
    "        f\"[{jsonl_path.name}] rows_scanned={len(arr)}  bad_rows={bad_rows}\\n\"\n",
    "        f\"max={max_len} tokens (row #{max_row})  \"\n",
    "        f\"mean={arr.mean():.1f}  median={np.median(arr):.1f}  p90={np.percentile(arr,90):.0f}  p95={np.percentile(arr,95):.0f}\"\n",
    "    )\n",
    "    return max_len, max_row, max_text"
   ]
  },
  {
   "cell_type": "code",
   "execution_count": 4,
   "id": "8fe3cb5a",
   "metadata": {},
   "outputs": [
    {
     "name": "stdout",
     "output_type": "stream",
     "text": [
      "[info_train.jsonl] rows_scanned=3000  bad_rows=0\n",
      "max=69 tokens (row #2395)  mean=61.4  median=61.0  p90=64  p95=65\n",
      "\n",
      "Longest `info` preview:\n",
      " user_name: Drew Gonzalez\n",
      "city: Miami\n",
      "country: United States\n",
      "time_zone: America/Los_Angeles\n",
      "favorite_color: white\n",
      "preferred_language: TypeScript\n",
      "hobby: playing piano\n",
      "role: QA engineer\n",
      "primary_interest: UI design\n",
      "pet: cat\n"
     ]
    }
   ],
   "source": [
    "from pathlib import Path\n",
    "\n",
    "target = Path(\"./info_datasets/info_train.jsonl\")\n",
    "max_len, max_row, max_text = info_token_stats(target)\n",
    "print(\"\\nLongest `info` preview:\\n\", max_text[:500])\n"
   ]
  }
 ],
 "metadata": {
  "kernelspec": {
   "display_name": "LLM-dummy-documentation (3.12.0)",
   "language": "python",
   "name": "python3"
  },
  "language_info": {
   "codemirror_mode": {
    "name": "ipython",
    "version": 3
   },
   "file_extension": ".py",
   "mimetype": "text/x-python",
   "name": "python",
   "nbconvert_exporter": "python",
   "pygments_lexer": "ipython3",
   "version": "3.12.0"
  }
 },
 "nbformat": 4,
 "nbformat_minor": 5
}
